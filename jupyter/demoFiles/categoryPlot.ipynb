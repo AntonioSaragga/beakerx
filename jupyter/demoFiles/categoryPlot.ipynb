{
 "cells": [
  {
   "cell_type": "code",
   "execution_count": 1,
   "metadata": {
    "collapsed": false
   },
   "outputs": [
    {
     "data": {
      "text/html": [
       "<html><div id='beakerChart1'></div><script>var j = {\"type\":\"CategoryPlot\",\"init_width\":640,\"init_height\":480,\"chart_title\":null,\"show_legend\":null,\"use_tool_tip\":true,\"legend_position\":{\"type\":\"LegendPosition\",\"position\":\"TOP_RIGHT\"},\"legend_layout\":\"VERTICAL\",\"element_styles\":{},\"domain_axis_label\":null,\"y_label\":\"\",\"rangeAxes\":[{\"type\":\"YAxis\",\"label\":\"\",\"auto_range\":true,\"auto_range_includes_zero\":false,\"lower_margin\":0.0,\"upper_margin\":0.0,\"lower_bound\":0.0,\"upper_bound\":0.0,\"use_log\":false,\"log_base\":10.0}],\"x_lower_margin\":0.05,\"x_upper_margin\":0.05,\"y_auto_range\":true,\"y_auto_range_includes_zero\":false,\"y_lower_margin\":0.0,\"y_upper_margin\":0.0,\"y_lower_bound\":0.0,\"y_upper_bound\":0.0,\"log_y\":false,\"timezone\":null,\"crosshair\":null,\"omit_checkboxes\":false,\"categoryNames\":[],\"graphics_list\":[{\"type\":\"CategoryBars\",\"uid\":\"73a71e71-7587-40f0-808d-1e2bc0b87c47\",\"visible\":true,\"yAxis\":null,\"hasClickAction\":false,\"showItemLabel\":false,\"center_series\":false,\"use_tool_tip\":true,\"value\":[[1,2,3],[1,3,5]],\"color\":null,\"base\":0.0,\"width\":null,\"outline_color\":null,\"fill\":null,\"outline\":false,\"labelPosition\":\"CENTER\"}],\"orientation\":\"VERTICAL\",\"category_margin\":0.2,\"categoryNamesLabelAngle\":0.0}; console.log('plot this:'); console.log(j); window.initPlotd(j,'beakerChart1');</script></html>"
      ]
     },
     "execution_count": 1,
     "metadata": {},
     "output_type": "execute_result"
    }
   ],
   "source": [
    "import com.twosigma.beaker.chart.categoryplot.CategoryPlot\n",
    "import com.twosigma.beaker.chart.categoryplot.plotitem.*\n",
    "\n",
    "def bars = new CategoryBars(value: [[1, 2, 3], [1, 3, 5]])\n",
    "new CategoryPlot() << bars"
   ]
  },
  {
   "cell_type": "code",
   "execution_count": 2,
   "metadata": {
    "collapsed": false
   },
   "outputs": [
    {
     "data": {
      "text/html": [
       "<html><div id='beakerChart2'></div><script>var j = {\"type\":\"CategoryPlot\",\"init_width\":400,\"init_height\":200,\"chart_title\":null,\"show_legend\":null,\"use_tool_tip\":true,\"legend_position\":{\"type\":\"LegendPosition\",\"position\":\"TOP_RIGHT\"},\"legend_layout\":\"VERTICAL\",\"element_styles\":{},\"domain_axis_label\":null,\"y_label\":\"\",\"rangeAxes\":[{\"type\":\"YAxis\",\"label\":\"\",\"auto_range\":true,\"auto_range_includes_zero\":false,\"lower_margin\":0.0,\"upper_margin\":0.0,\"lower_bound\":0.0,\"upper_bound\":0.0,\"use_log\":false,\"log_base\":10.0}],\"x_lower_margin\":0.05,\"x_upper_margin\":0.05,\"y_auto_range\":true,\"y_auto_range_includes_zero\":false,\"y_lower_margin\":0.0,\"y_upper_margin\":0.0,\"y_lower_bound\":0.0,\"y_upper_bound\":0.0,\"log_y\":false,\"timezone\":null,\"crosshair\":null,\"omit_checkboxes\":false,\"categoryNames\":[],\"graphics_list\":[{\"type\":\"CategoryBars\",\"uid\":\"75afe651-b28b-47dc-92bf-daa5f23bab41\",\"visible\":true,\"yAxis\":null,\"hasClickAction\":false,\"showItemLabel\":false,\"center_series\":false,\"use_tool_tip\":true,\"value\":[[1,2,3],[1,3,5]],\"color\":null,\"base\":0.0,\"width\":null,\"outline_color\":null,\"fill\":null,\"outline\":false,\"labelPosition\":\"CENTER\"}],\"orientation\":\"VERTICAL\",\"category_margin\":0.2,\"categoryNamesLabelAngle\":0.0}; console.log('plot this:'); console.log(j); window.initPlotd(j,'beakerChart2');</script></html>"
      ]
     },
     "execution_count": 2,
     "metadata": {},
     "output_type": "execute_result"
    }
   ],
   "source": [
    "import com.twosigma.beaker.chart.categoryplot.CategoryPlot\n",
    "import com.twosigma.beaker.chart.categoryplot.plotitem.*\n",
    "\n",
    "def cplot = new CategoryPlot(initWidth: 400, initHeight: 200)\n",
    "def bars = new CategoryBars(value:[[1, 2, 3], [1, 3, 5]])\n",
    "cplot << bars"
   ]
  },
  {
   "cell_type": "code",
   "execution_count": 3,
   "metadata": {
    "collapsed": false
   },
   "outputs": [
    {
     "data": {
      "text/html": [
       "<html><div id='beakerChart3'></div><script>var j = {\"type\":\"CategoryPlot\",\"init_width\":640,\"init_height\":480,\"chart_title\":\"Hello CategoryPlot!\",\"show_legend\":null,\"use_tool_tip\":true,\"legend_position\":{\"type\":\"LegendPosition\",\"position\":\"TOP_RIGHT\"},\"legend_layout\":\"VERTICAL\",\"element_styles\":{},\"domain_axis_label\":\"Categories\",\"y_label\":\"Values\",\"rangeAxes\":[{\"type\":\"YAxis\",\"label\":\"Values\",\"auto_range\":true,\"auto_range_includes_zero\":false,\"lower_margin\":0.0,\"upper_margin\":0.0,\"lower_bound\":0.0,\"upper_bound\":0.0,\"use_log\":false,\"log_base\":10.0}],\"x_lower_margin\":0.05,\"x_upper_margin\":0.05,\"y_auto_range\":true,\"y_auto_range_includes_zero\":false,\"y_lower_margin\":0.0,\"y_upper_margin\":0.0,\"y_lower_bound\":0.0,\"y_upper_bound\":0.0,\"log_y\":false,\"timezone\":null,\"crosshair\":null,\"omit_checkboxes\":false,\"categoryNames\":[],\"graphics_list\":[{\"type\":\"CategoryBars\",\"uid\":\"66fdb831-60ea-47fd-ad64-7df0cf9faeba\",\"visible\":true,\"yAxis\":null,\"hasClickAction\":false,\"showItemLabel\":false,\"center_series\":false,\"use_tool_tip\":true,\"value\":[[1,2,3],[1,3,5]],\"color\":null,\"base\":0.0,\"width\":null,\"outline_color\":null,\"fill\":null,\"outline\":false,\"labelPosition\":\"CENTER\"}],\"orientation\":\"VERTICAL\",\"category_margin\":0.2,\"categoryNamesLabelAngle\":0.0}; console.log('plot this:'); console.log(j); window.initPlotd(j,'beakerChart3');</script></html>"
      ]
     },
     "execution_count": 3,
     "metadata": {},
     "output_type": "execute_result"
    }
   ],
   "source": [
    "import com.twosigma.beaker.chart.categoryplot.CategoryPlot\n",
    "import com.twosigma.beaker.chart.categoryplot.plotitem.*\n",
    "\n",
    "def cplot = new CategoryPlot(title: \"Hello CategoryPlot!\",\n",
    "                             xLabel: \"Categories\",\n",
    "                             yLabel: \"Values\")\n",
    "cplot << new CategoryBars(value:[[1, 2, 3], [1, 3, 5]])"
   ]
  },
  {
   "cell_type": "code",
   "execution_count": 4,
   "metadata": {
    "collapsed": false
   },
   "outputs": [
    {
     "data": {
      "text/html": [
       "<html><div id='beakerChart4'></div><script>var j = {\"type\":\"CategoryPlot\",\"init_width\":640,\"init_height\":480,\"chart_title\":null,\"show_legend\":null,\"use_tool_tip\":true,\"legend_position\":{\"type\":\"LegendPosition\",\"position\":\"TOP_RIGHT\"},\"legend_layout\":\"VERTICAL\",\"element_styles\":{},\"domain_axis_label\":null,\"y_label\":\"\",\"rangeAxes\":[{\"type\":\"YAxis\",\"label\":\"\",\"auto_range\":true,\"auto_range_includes_zero\":false,\"lower_margin\":0.0,\"upper_margin\":0.0,\"lower_bound\":0.0,\"upper_bound\":0.0,\"use_log\":false,\"log_base\":10.0}],\"x_lower_margin\":0.05,\"x_upper_margin\":0.05,\"y_auto_range\":true,\"y_auto_range_includes_zero\":false,\"y_lower_margin\":0.0,\"y_upper_margin\":0.0,\"y_lower_bound\":0.0,\"y_upper_bound\":0.0,\"log_y\":false,\"timezone\":null,\"crosshair\":null,\"omit_checkboxes\":false,\"categoryNames\":[\"Helium\",\"Neon\",\"Argon\"],\"graphics_list\":[{\"type\":\"CategoryBars\",\"uid\":\"297f251b-9a2d-425c-82fe-e28ddb777fa6\",\"visible\":true,\"yAxis\":null,\"hasClickAction\":false,\"showItemLabel\":false,\"center_series\":false,\"use_tool_tip\":true,\"value\":[[1,2,3],[1,3,5]],\"color\":null,\"base\":0.0,\"width\":null,\"outline_color\":null,\"fill\":null,\"outline\":false,\"labelPosition\":\"CENTER\"}],\"orientation\":\"VERTICAL\",\"category_margin\":0.2,\"categoryNamesLabelAngle\":0.0}; console.log('plot this:'); console.log(j); window.initPlotd(j,'beakerChart4');</script></html>"
      ]
     },
     "execution_count": 4,
     "metadata": {},
     "output_type": "execute_result"
    }
   ],
   "source": [
    "import com.twosigma.beaker.chart.categoryplot.CategoryPlot\n",
    "import com.twosigma.beaker.chart.categoryplot.plotitem.*\n",
    "\n",
    "def cplot = new CategoryPlot(categoryNames: [\"Helium\", \"Neon\", \"Argon\"])\n",
    "cplot << new CategoryBars(value: [[1, 2, 3], [1, 3, 5]])"
   ]
  },
  {
   "cell_type": "code",
   "execution_count": 5,
   "metadata": {
    "collapsed": false
   },
   "outputs": [
    {
     "data": {
      "text/html": [
       "<html><div id='beakerChart5'></div><script>var j = {\"type\":\"CategoryPlot\",\"init_width\":640,\"init_height\":480,\"chart_title\":null,\"show_legend\":null,\"use_tool_tip\":true,\"legend_position\":{\"type\":\"LegendPosition\",\"position\":\"TOP_RIGHT\"},\"legend_layout\":\"VERTICAL\",\"element_styles\":{},\"domain_axis_label\":null,\"y_label\":\"\",\"rangeAxes\":[{\"type\":\"YAxis\",\"label\":\"\",\"auto_range\":true,\"auto_range_includes_zero\":false,\"lower_margin\":0.0,\"upper_margin\":0.0,\"lower_bound\":0.0,\"upper_bound\":0.0,\"use_log\":false,\"log_base\":10.0}],\"x_lower_margin\":0.05,\"x_upper_margin\":0.05,\"y_auto_range\":true,\"y_auto_range_includes_zero\":false,\"y_lower_margin\":0.0,\"y_upper_margin\":0.0,\"y_lower_bound\":0.0,\"y_upper_bound\":0.0,\"log_y\":false,\"timezone\":null,\"crosshair\":null,\"omit_checkboxes\":false,\"categoryNames\":[],\"graphics_list\":[{\"type\":\"CategoryBars\",\"uid\":\"d8788666-9eea-4209-b4cc-5180bba14661\",\"visible\":true,\"yAxis\":null,\"hasClickAction\":false,\"showItemLabel\":false,\"center_series\":false,\"use_tool_tip\":true,\"seriesNames\":[\"Gas\",\"Liquid\"],\"value\":[[1,2,3],[1,3,5]],\"color\":null,\"base\":0.0,\"width\":null,\"outline_color\":null,\"fill\":null,\"outline\":false,\"labelPosition\":\"CENTER\"}],\"orientation\":\"VERTICAL\",\"category_margin\":0.2,\"categoryNamesLabelAngle\":0.0}; console.log('plot this:'); console.log(j); window.initPlotd(j,'beakerChart5');</script></html>"
      ]
     },
     "execution_count": 5,
     "metadata": {},
     "output_type": "execute_result"
    }
   ],
   "source": [
    "import com.twosigma.beaker.chart.categoryplot.CategoryPlot\n",
    "import com.twosigma.beaker.chart.categoryplot.plotitem.*\n",
    "\n",
    "new CategoryPlot() << new CategoryBars(value: [[1, 2, 3], [1, 3, 5]],\n",
    "                                       seriesNames: [\"Gas\", \"Liquid\"])"
   ]
  },
  {
   "cell_type": "code",
   "execution_count": 6,
   "metadata": {
    "collapsed": false
   },
   "outputs": [
    {
     "data": {
      "text/html": [
       "<html><div id='beakerChart6'></div><script>var j = {\"type\":\"CategoryPlot\",\"init_width\":640,\"init_height\":480,\"chart_title\":null,\"show_legend\":null,\"use_tool_tip\":true,\"legend_position\":{\"type\":\"LegendPosition\",\"position\":\"TOP_RIGHT\"},\"legend_layout\":\"VERTICAL\",\"element_styles\":{},\"domain_axis_label\":null,\"y_label\":\"\",\"rangeAxes\":[{\"type\":\"YAxis\",\"label\":\"\",\"auto_range\":true,\"auto_range_includes_zero\":false,\"lower_margin\":0.0,\"upper_margin\":0.0,\"lower_bound\":0.0,\"upper_bound\":0.0,\"use_log\":false,\"log_base\":10.0}],\"x_lower_margin\":0.05,\"x_upper_margin\":0.05,\"y_auto_range\":true,\"y_auto_range_includes_zero\":false,\"y_lower_margin\":0.0,\"y_upper_margin\":0.0,\"y_lower_bound\":0.0,\"y_upper_bound\":0.0,\"log_y\":false,\"timezone\":null,\"crosshair\":null,\"omit_checkboxes\":false,\"categoryNames\":[],\"graphics_list\":[{\"type\":\"CategoryBars\",\"uid\":\"3ebde290-83e8-43b5-8352-b962f7d659e8\",\"visible\":true,\"yAxis\":null,\"hasClickAction\":false,\"showItemLabel\":false,\"center_series\":false,\"use_tool_tip\":true,\"seriesNames\":[\"Gas\",null,\"\",\"Liquid\"],\"value\":[[1,2],[3,4],[5,6],[7,8]],\"color\":null,\"base\":0.0,\"width\":null,\"outline_color\":null,\"fill\":null,\"outline\":false,\"labelPosition\":\"CENTER\"}],\"orientation\":\"VERTICAL\",\"category_margin\":0.2,\"categoryNamesLabelAngle\":0.0}; console.log('plot this:'); console.log(j); window.initPlotd(j,'beakerChart6');</script></html>"
      ]
     },
     "execution_count": 6,
     "metadata": {},
     "output_type": "execute_result"
    }
   ],
   "source": [
    "import com.twosigma.beaker.chart.categoryplot.CategoryPlot\n",
    "import com.twosigma.beaker.chart.categoryplot.plotitem.*\n",
    "\n",
    "def bars = new CategoryBars(value: [[1, 2], [3, 4], [5, 6], [7, 8]],\n",
    "                            seriesNames: [\"Gas\", null, \"\", \"Liquid\"])\n",
    "new CategoryPlot() << bars"
   ]
  },
  {
   "cell_type": "code",
   "execution_count": 7,
   "metadata": {
    "collapsed": false
   },
   "outputs": [
    {
     "data": {
      "text/html": [
       "<html><div id='beakerChart7'></div><script>var j = {\"type\":\"CategoryPlot\",\"init_width\":640,\"init_height\":480,\"chart_title\":null,\"show_legend\":true,\"use_tool_tip\":true,\"legend_position\":{\"type\":\"LegendPosition\",\"position\":\"TOP_RIGHT\"},\"legend_layout\":\"VERTICAL\",\"element_styles\":{},\"domain_axis_label\":null,\"y_label\":\"\",\"rangeAxes\":[{\"type\":\"YAxis\",\"label\":\"\",\"auto_range\":true,\"auto_range_includes_zero\":false,\"lower_margin\":0.0,\"upper_margin\":0.0,\"lower_bound\":0.0,\"upper_bound\":0.0,\"use_log\":false,\"log_base\":10.0}],\"x_lower_margin\":0.05,\"x_upper_margin\":0.05,\"y_auto_range\":true,\"y_auto_range_includes_zero\":false,\"y_lower_margin\":0.0,\"y_upper_margin\":0.0,\"y_lower_bound\":0.0,\"y_upper_bound\":0.0,\"log_y\":false,\"timezone\":null,\"crosshair\":null,\"omit_checkboxes\":false,\"categoryNames\":[],\"graphics_list\":[{\"type\":\"CategoryBars\",\"uid\":\"4e6853b3-70f4-4022-a205-364854c8b190\",\"visible\":true,\"yAxis\":null,\"hasClickAction\":false,\"showItemLabel\":false,\"center_series\":false,\"use_tool_tip\":true,\"value\":[[1,2,3],[1,3,5]],\"color\":null,\"base\":0.0,\"width\":null,\"outline_color\":null,\"fill\":null,\"outline\":false,\"labelPosition\":\"CENTER\"}],\"orientation\":\"VERTICAL\",\"category_margin\":0.2,\"categoryNamesLabelAngle\":0.0}; console.log('plot this:'); console.log(j); window.initPlotd(j,'beakerChart7');</script></html>"
      ]
     },
     "execution_count": 7,
     "metadata": {},
     "output_type": "execute_result"
    }
   ],
   "source": [
    "import com.twosigma.beaker.chart.categoryplot.CategoryPlot\n",
    "import com.twosigma.beaker.chart.categoryplot.plotitem.*\n",
    "\n",
    "def plot = new CategoryPlot(showLegend: true) // force legend display\n",
    "def bars = new CategoryBars(value: [[1, 2, 3], [1, 3, 5]])\n",
    "// since no display names were provided, default names \"series0\" etc will be used.\n",
    "plot << bars"
   ]
  },
  {
   "cell_type": "code",
   "execution_count": 8,
   "metadata": {
    "collapsed": false
   },
   "outputs": [
    {
     "data": {
      "text/html": [
       "<html><div id='beakerChart8'></div><script>var j = {\"type\":\"CategoryPlot\",\"init_width\":640,\"init_height\":480,\"chart_title\":null,\"show_legend\":null,\"use_tool_tip\":true,\"legend_position\":{\"type\":\"LegendPosition\",\"position\":\"TOP_RIGHT\"},\"legend_layout\":\"VERTICAL\",\"element_styles\":{},\"domain_axis_label\":null,\"y_label\":\"\",\"rangeAxes\":[{\"type\":\"YAxis\",\"label\":\"\",\"auto_range\":true,\"auto_range_includes_zero\":false,\"lower_margin\":0.0,\"upper_margin\":0.0,\"lower_bound\":0.0,\"upper_bound\":0.0,\"use_log\":false,\"log_base\":10.0}],\"x_lower_margin\":0.05,\"x_upper_margin\":0.05,\"y_auto_range\":true,\"y_auto_range_includes_zero\":false,\"y_lower_margin\":0.0,\"y_upper_margin\":0.0,\"y_lower_bound\":0.0,\"y_upper_bound\":0.0,\"log_y\":false,\"timezone\":null,\"crosshair\":null,\"omit_checkboxes\":false,\"categoryNames\":[],\"graphics_list\":[{\"type\":\"CategoryBars\",\"uid\":\"8a45d380-39c5-40f5-a611-e4cc0e051176\",\"visible\":true,\"yAxis\":null,\"hasClickAction\":false,\"showItemLabel\":false,\"center_series\":false,\"use_tool_tip\":true,\"value\":[[1,2,3],[1,3,5]],\"color\":null,\"base\":0.0,\"width\":null,\"outline_color\":null,\"fill\":null,\"outline\":false,\"labelPosition\":\"CENTER\"}],\"orientation\":\"HORIZONTAL\",\"category_margin\":0.2,\"categoryNamesLabelAngle\":0.0}; console.log('plot this:'); console.log(j); window.initPlotd(j,'beakerChart8');</script></html>"
      ]
     },
     "execution_count": 8,
     "metadata": {},
     "output_type": "execute_result"
    }
   ],
   "source": [
    "import com.twosigma.beaker.chart.xychart.plotitem.*\n",
    "import com.twosigma.beaker.chart.categoryplot.CategoryPlot\n",
    "import com.twosigma.beaker.chart.categoryplot.plotitem.*\n",
    "\n",
    "def plot = new CategoryPlot(orientation: PlotOrientationType.HORIZONTAL)\n",
    "plot << new CategoryBars(value:[[1, 2, 3], [1, 3, 5]])"
   ]
  },
  {
   "cell_type": "code",
   "execution_count": 9,
   "metadata": {
    "collapsed": false
   },
   "outputs": [
    {
     "data": {
      "text/html": [
       "<html><div id='beakerChart9'></div><script>var j = {\"type\":\"CategoryPlot\",\"init_width\":640,\"init_height\":480,\"chart_title\":null,\"show_legend\":null,\"use_tool_tip\":true,\"legend_position\":{\"type\":\"LegendPosition\",\"position\":\"TOP_RIGHT\"},\"legend_layout\":\"VERTICAL\",\"element_styles\":{},\"domain_axis_label\":null,\"y_label\":\"\",\"rangeAxes\":[{\"type\":\"YAxis\",\"label\":\"\",\"auto_range\":true,\"auto_range_includes_zero\":false,\"lower_margin\":0.0,\"upper_margin\":0.0,\"lower_bound\":0.0,\"upper_bound\":0.0,\"use_log\":false,\"log_base\":10.0}],\"x_lower_margin\":0.05,\"x_upper_margin\":0.05,\"y_auto_range\":true,\"y_auto_range_includes_zero\":false,\"y_lower_margin\":0.0,\"y_upper_margin\":0.0,\"y_lower_bound\":0.0,\"y_upper_bound\":0.0,\"log_y\":false,\"timezone\":null,\"crosshair\":null,\"omit_checkboxes\":false,\"categoryNames\":[\"Acid\",\"Neutral\",\"Base\"],\"graphics_list\":[{\"type\":\"CategoryBars\",\"uid\":\"3e93b7e0-6b58-4900-be90-6173e71f44a8\",\"visible\":true,\"yAxis\":null,\"hasClickAction\":false,\"showItemLabel\":false,\"center_series\":false,\"use_tool_tip\":true,\"value\":[[1,2,3],[4,5,6]],\"color\":null,\"base\":0.0,\"width\":null,\"outline_color\":null,\"fill\":null,\"outline\":false,\"labelPosition\":\"CENTER\"}],\"orientation\":\"VERTICAL\",\"category_margin\":0.2,\"categoryNamesLabelAngle\":-0.7853981633974483}; console.log('plot this:'); console.log(j); window.initPlotd(j,'beakerChart9');</script></html>"
      ]
     },
     "execution_count": 9,
     "metadata": {},
     "output_type": "execute_result"
    }
   ],
   "source": [
    "import com.twosigma.beaker.chart.categoryplot.CategoryPlot\n",
    "import com.twosigma.beaker.chart.categoryplot.plotitem.*\n",
    "\n",
    "def plot = new CategoryPlot(categoryNames: [\"Acid\", \"Neutral\", \"Base\"], \n",
    "                            categoryNamesLabelAngle: -1/4 * Math.PI)\n",
    "plot << new CategoryBars(value: [[1, 2, 3], [4, 5, 6]])"
   ]
  },
  {
   "cell_type": "code",
   "execution_count": 10,
   "metadata": {
    "collapsed": false
   },
   "outputs": [
    {
     "data": {
      "text/html": [
       "<html><div id='beakerChart10'></div><script>var j = {\"type\":\"CategoryPlot\",\"init_width\":640,\"init_height\":480,\"chart_title\":null,\"show_legend\":null,\"use_tool_tip\":true,\"legend_position\":{\"type\":\"LegendPosition\",\"position\":\"TOP_RIGHT\"},\"legend_layout\":\"VERTICAL\",\"element_styles\":{},\"domain_axis_label\":null,\"y_label\":\"\",\"rangeAxes\":[{\"type\":\"YAxis\",\"label\":\"\",\"auto_range\":true,\"auto_range_includes_zero\":false,\"lower_margin\":0.0,\"upper_margin\":0.0,\"lower_bound\":0.0,\"upper_bound\":0.0,\"use_log\":false,\"log_base\":10.0}],\"x_lower_margin\":0.05,\"x_upper_margin\":0.05,\"y_auto_range\":true,\"y_auto_range_includes_zero\":false,\"y_lower_margin\":0.0,\"y_upper_margin\":0.0,\"y_lower_bound\":0.0,\"y_upper_bound\":0.0,\"log_y\":false,\"timezone\":null,\"crosshair\":null,\"omit_checkboxes\":false,\"categoryNames\":[],\"graphics_list\":[{\"type\":\"CategoryBars\",\"uid\":\"85b9efa1-a25d-44e3-931f-f19b41bfaf5a\",\"visible\":true,\"yAxis\":null,\"hasClickAction\":false,\"showItemLabel\":false,\"center_series\":false,\"use_tool_tip\":true,\"value\":[[1,2,3],[4,5,6]],\"color\":null,\"base\":0.0,\"width\":null,\"outline_color\":null,\"fill\":null,\"outline\":false,\"labelPosition\":\"CENTER\"}],\"orientation\":\"VERTICAL\",\"category_margin\":2.0,\"categoryNamesLabelAngle\":0.0}; console.log('plot this:'); console.log(j); window.initPlotd(j,'beakerChart10');</script></html>"
      ]
     },
     "execution_count": 10,
     "metadata": {},
     "output_type": "execute_result"
    }
   ],
   "source": [
    "import com.twosigma.beaker.chart.categoryplot.CategoryPlot\n",
    "import com.twosigma.beaker.chart.categoryplot.plotitem.*\n",
    "\n",
    "new CategoryPlot(categoryMargin: 2) << new CategoryBars(value: [[1, 2, 3], [4, 5, 6]])"
   ]
  },
  {
   "cell_type": "code",
   "execution_count": 11,
   "metadata": {
    "collapsed": false
   },
   "outputs": [
    {
     "data": {
      "text/html": [
       "<html><div id='beakerChart11'></div><script>var j = {\"type\":\"CategoryPlot\",\"init_width\":640,\"init_height\":480,\"chart_title\":null,\"show_legend\":null,\"use_tool_tip\":true,\"legend_position\":{\"type\":\"LegendPosition\",\"position\":\"TOP_RIGHT\"},\"legend_layout\":\"VERTICAL\",\"element_styles\":{},\"domain_axis_label\":null,\"y_label\":\"\",\"rangeAxes\":[{\"type\":\"YAxis\",\"label\":\"\",\"auto_range\":true,\"auto_range_includes_zero\":false,\"lower_margin\":0.0,\"upper_margin\":0.0,\"lower_bound\":0.0,\"upper_bound\":0.0,\"use_log\":false,\"log_base\":10.0}],\"x_lower_margin\":0.05,\"x_upper_margin\":0.05,\"y_auto_range\":true,\"y_auto_range_includes_zero\":false,\"y_lower_margin\":0.0,\"y_upper_margin\":0.0,\"y_lower_bound\":0.0,\"y_upper_bound\":0.0,\"log_y\":false,\"timezone\":null,\"crosshair\":null,\"omit_checkboxes\":false,\"categoryNames\":[],\"graphics_list\":[{\"type\":\"CategoryBars\",\"uid\":\"afef8cc0-7912-4a80-b5c3-459fabe10a77\",\"visible\":true,\"yAxis\":null,\"hasClickAction\":false,\"showItemLabel\":false,\"center_series\":false,\"use_tool_tip\":true,\"value\":[[1,2,3,4,2]],\"color\":null,\"base\":0.0,\"width\":null,\"outline_color\":null,\"fill\":null,\"outline\":false,\"labelPosition\":\"CENTER\"}],\"orientation\":\"VERTICAL\",\"category_margin\":0.2,\"categoryNamesLabelAngle\":0.0}; console.log('plot this:'); console.log(j); window.initPlotd(j,'beakerChart11');</script></html>"
      ]
     },
     "execution_count": 11,
     "metadata": {},
     "output_type": "execute_result"
    }
   ],
   "source": [
    "import com.twosigma.beaker.chart.categoryplot.CategoryPlot\n",
    "import com.twosigma.beaker.chart.categoryplot.plotitem.*\n",
    "\n",
    "def bars = new CategoryBars(value: (1..4) + 2)\n",
    "new CategoryPlot() << bars"
   ]
  },
  {
   "cell_type": "code",
   "execution_count": 12,
   "metadata": {
    "collapsed": false
   },
   "outputs": [
    {
     "data": {
      "text/html": [
       "<html><div id='beakerChart12'></div><script>var j = {\"type\":\"CategoryPlot\",\"init_width\":640,\"init_height\":480,\"chart_title\":null,\"show_legend\":null,\"use_tool_tip\":true,\"legend_position\":{\"type\":\"LegendPosition\",\"position\":\"TOP_RIGHT\"},\"legend_layout\":\"VERTICAL\",\"element_styles\":{},\"domain_axis_label\":null,\"y_label\":\"\",\"rangeAxes\":[{\"type\":\"YAxis\",\"label\":\"\",\"auto_range\":true,\"auto_range_includes_zero\":false,\"lower_margin\":0.0,\"upper_margin\":0.0,\"lower_bound\":0.0,\"upper_bound\":0.0,\"use_log\":false,\"log_base\":10.0}],\"x_lower_margin\":0.05,\"x_upper_margin\":0.05,\"y_auto_range\":true,\"y_auto_range_includes_zero\":false,\"y_lower_margin\":0.0,\"y_upper_margin\":0.0,\"y_lower_bound\":0.0,\"y_upper_bound\":0.0,\"log_y\":false,\"timezone\":null,\"crosshair\":null,\"omit_checkboxes\":false,\"categoryNames\":[],\"graphics_list\":[{\"type\":\"CategoryBars\",\"uid\":\"7ecff9b6-f269-45d2-944e-8e55ed45bdd4\",\"visible\":true,\"yAxis\":null,\"hasClickAction\":false,\"showItemLabel\":false,\"center_series\":false,\"use_tool_tip\":true,\"value\":[[1,2],[3,4],[5,6]],\"color\":\"#FFFFAFAF\",\"base\":0.0,\"width\":null,\"outline_color\":null,\"fill\":null,\"outline\":false,\"labelPosition\":\"CENTER\"}],\"orientation\":\"VERTICAL\",\"category_margin\":0.2,\"categoryNamesLabelAngle\":0.0}; console.log('plot this:'); console.log(j); window.initPlotd(j,'beakerChart12');</script></html>"
      ]
     },
     "execution_count": 12,
     "metadata": {},
     "output_type": "execute_result"
    }
   ],
   "source": [
    "import com.twosigma.beaker.chart.categoryplot.CategoryPlot\n",
    "import com.twosigma.beaker.chart.categoryplot.plotitem.*\n",
    "import com.twosigma.beaker.chart.Color\n",
    "\n",
    "def bars = new CategoryBars(value: [[1, 2], [3, 4], [5, 6]], color: Color.pink)\n",
    "new CategoryPlot() << bars"
   ]
  },
  {
   "cell_type": "code",
   "execution_count": 13,
   "metadata": {
    "collapsed": false
   },
   "outputs": [
    {
     "data": {
      "text/html": [
       "<html><div id='beakerChart13'></div><script>var j = {\"type\":\"CategoryPlot\",\"init_width\":640,\"init_height\":480,\"chart_title\":null,\"show_legend\":null,\"use_tool_tip\":true,\"legend_position\":{\"type\":\"LegendPosition\",\"position\":\"TOP_RIGHT\"},\"legend_layout\":\"VERTICAL\",\"element_styles\":{},\"domain_axis_label\":null,\"y_label\":\"\",\"rangeAxes\":[{\"type\":\"YAxis\",\"label\":\"\",\"auto_range\":true,\"auto_range_includes_zero\":false,\"lower_margin\":0.0,\"upper_margin\":0.0,\"lower_bound\":0.0,\"upper_bound\":0.0,\"use_log\":false,\"log_base\":10.0}],\"x_lower_margin\":0.05,\"x_upper_margin\":0.05,\"y_auto_range\":true,\"y_auto_range_includes_zero\":false,\"y_lower_margin\":0.0,\"y_upper_margin\":0.0,\"y_lower_bound\":0.0,\"y_upper_bound\":0.0,\"log_y\":false,\"timezone\":null,\"crosshair\":null,\"omit_checkboxes\":false,\"categoryNames\":[],\"graphics_list\":[{\"type\":\"CategoryBars\",\"uid\":\"63265396-db9d-4c86-a84a-33c1131642b7\",\"visible\":true,\"yAxis\":null,\"hasClickAction\":false,\"showItemLabel\":false,\"center_series\":false,\"use_tool_tip\":true,\"value\":[[1,2],[3,4],[5,6]],\"colors\":[\"#FFFF0000\",\"#FF808080\",\"#FF0000FF\"],\"base\":0.0,\"width\":null,\"outline_color\":null,\"fill\":null,\"outline\":false,\"labelPosition\":\"CENTER\"}],\"orientation\":\"VERTICAL\",\"category_margin\":0.2,\"categoryNamesLabelAngle\":0.0}; console.log('plot this:'); console.log(j); window.initPlotd(j,'beakerChart13');</script></html>"
      ]
     },
     "execution_count": 13,
     "metadata": {},
     "output_type": "execute_result"
    }
   ],
   "source": [
    "import com.twosigma.beaker.chart.categoryplot.CategoryPlot\n",
    "import com.twosigma.beaker.chart.categoryplot.plotitem.*\n",
    "import com.twosigma.beaker.chart.Color\n",
    "\n",
    "def colors = [Color.red, Color.gray, Color.blue]\n",
    "def bars = new CategoryBars(value: [[1, 2], [3, 4], [5, 6]], color: colors)\n",
    "new CategoryPlot() << bars\n"
   ]
  },
  {
   "cell_type": "code",
   "execution_count": 14,
   "metadata": {
    "collapsed": false
   },
   "outputs": [
    {
     "data": {
      "text/html": [
       "<html><div id='beakerChart14'></div><script>var j = {\"type\":\"CategoryPlot\",\"init_width\":640,\"init_height\":480,\"chart_title\":null,\"show_legend\":null,\"use_tool_tip\":true,\"legend_position\":{\"type\":\"LegendPosition\",\"position\":\"TOP_RIGHT\"},\"legend_layout\":\"VERTICAL\",\"element_styles\":{},\"domain_axis_label\":null,\"y_label\":\"\",\"rangeAxes\":[{\"type\":\"YAxis\",\"label\":\"\",\"auto_range\":true,\"auto_range_includes_zero\":false,\"lower_margin\":0.0,\"upper_margin\":0.0,\"lower_bound\":0.0,\"upper_bound\":0.0,\"use_log\":false,\"log_base\":10.0}],\"x_lower_margin\":0.05,\"x_upper_margin\":0.05,\"y_auto_range\":true,\"y_auto_range_includes_zero\":false,\"y_lower_margin\":0.0,\"y_upper_margin\":0.0,\"y_lower_bound\":0.0,\"y_upper_bound\":0.0,\"log_y\":false,\"timezone\":null,\"crosshair\":null,\"omit_checkboxes\":false,\"categoryNames\":[],\"graphics_list\":[{\"type\":\"CategoryBars\",\"uid\":\"027cc495-2e3e-452d-84d8-592246b6b3c1\",\"visible\":true,\"yAxis\":null,\"hasClickAction\":false,\"showItemLabel\":false,\"center_series\":false,\"use_tool_tip\":true,\"value\":[[1,2],[3,4],[5,6]],\"colors\":[[\"#FFFF0000\",\"#FF808080\"],[\"#FF808080\",\"#FF808080\"],[\"#FF0000FF\",\"#FFFFAFAF\"]],\"base\":0.0,\"width\":null,\"outline_color\":null,\"fill\":null,\"outline\":false,\"labelPosition\":\"CENTER\"}],\"orientation\":\"VERTICAL\",\"category_margin\":0.2,\"categoryNamesLabelAngle\":0.0}; console.log('plot this:'); console.log(j); window.initPlotd(j,'beakerChart14');</script></html>"
      ]
     },
     "execution_count": 14,
     "metadata": {},
     "output_type": "execute_result"
    }
   ],
   "source": [
    "import com.twosigma.beaker.chart.categoryplot.CategoryPlot\n",
    "import com.twosigma.beaker.chart.categoryplot.plotitem.*\n",
    "import com.twosigma.beaker.chart.Color\n",
    "\n",
    "def colors = [[Color.red, Color.gray],\n",
    "              [Color.gray, Color.gray],\n",
    "              [Color.blue, Color.pink]]\n",
    "def bars = new CategoryBars(value: [[1, 2], [3, 4], [5, 6]], color: colors)\n",
    "new CategoryPlot() << bars"
   ]
  },
  {
   "cell_type": "code",
   "execution_count": 15,
   "metadata": {
    "collapsed": false
   },
   "outputs": [
    {
     "data": {
      "text/html": [
       "<html><div id='beakerChart15'></div><script>var j = {\"type\":\"CategoryPlot\",\"init_width\":640,\"init_height\":480,\"chart_title\":null,\"show_legend\":null,\"use_tool_tip\":true,\"legend_position\":{\"type\":\"LegendPosition\",\"position\":\"TOP_RIGHT\"},\"legend_layout\":\"VERTICAL\",\"element_styles\":{},\"domain_axis_label\":null,\"y_label\":\"\",\"rangeAxes\":[{\"type\":\"YAxis\",\"label\":\"\",\"auto_range\":true,\"auto_range_includes_zero\":false,\"lower_margin\":0.0,\"upper_margin\":0.0,\"lower_bound\":0.0,\"upper_bound\":0.0,\"use_log\":false,\"log_base\":10.0}],\"x_lower_margin\":0.05,\"x_upper_margin\":0.05,\"y_auto_range\":true,\"y_auto_range_includes_zero\":false,\"y_lower_margin\":0.0,\"y_upper_margin\":0.0,\"y_lower_bound\":0.0,\"y_upper_bound\":0.0,\"log_y\":false,\"timezone\":null,\"crosshair\":null,\"omit_checkboxes\":false,\"categoryNames\":[],\"graphics_list\":[{\"type\":\"CategoryBars\",\"uid\":\"86ec7c3f-73eb-4a44-8ebc-0b14ed23f0fe\",\"visible\":true,\"yAxis\":null,\"hasClickAction\":false,\"showItemLabel\":false,\"center_series\":false,\"use_tool_tip\":true,\"value\":[[1,2,3],[4,5,6]],\"colors\":[\"#FFFFAFAF\",[\"#FFFF0000\",\"#FF808080\",\"#FF0000FF\"]],\"base\":0.0,\"width\":null,\"outline_color\":null,\"fill\":null,\"outline\":false,\"labelPosition\":\"CENTER\"}],\"orientation\":\"VERTICAL\",\"category_margin\":0.2,\"categoryNamesLabelAngle\":0.0}; console.log('plot this:'); console.log(j); window.initPlotd(j,'beakerChart15');</script></html>"
      ]
     },
     "execution_count": 15,
     "metadata": {},
     "output_type": "execute_result"
    }
   ],
   "source": [
    "import com.twosigma.beaker.chart.categoryplot.CategoryPlot\n",
    "import com.twosigma.beaker.chart.categoryplot.plotitem.*\n",
    "import com.twosigma.beaker.chart.Color\n",
    "\n",
    "def colors = [Color.pink, [Color.red, Color.gray, Color.blue]]\n",
    "def bars = new CategoryBars(value: [[1, 2, 3], [4, 5, 6]], color: colors)\n",
    "new CategoryPlot() << bars"
   ]
  },
  {
   "cell_type": "code",
   "execution_count": 16,
   "metadata": {
    "collapsed": false
   },
   "outputs": [
    {
     "data": {
      "text/html": [
       "<html><div id='beakerChart16'></div><script>var j = {\"type\":\"CategoryPlot\",\"init_width\":640,\"init_height\":480,\"chart_title\":null,\"show_legend\":null,\"use_tool_tip\":true,\"legend_position\":{\"type\":\"LegendPosition\",\"position\":\"TOP_RIGHT\"},\"legend_layout\":\"VERTICAL\",\"element_styles\":{},\"domain_axis_label\":null,\"y_label\":\"\",\"rangeAxes\":[{\"type\":\"YAxis\",\"label\":\"\",\"auto_range\":true,\"auto_range_includes_zero\":false,\"lower_margin\":0.0,\"upper_margin\":0.0,\"lower_bound\":0.0,\"upper_bound\":0.0,\"use_log\":false,\"log_base\":10.0}],\"x_lower_margin\":0.05,\"x_upper_margin\":0.05,\"y_auto_range\":true,\"y_auto_range_includes_zero\":false,\"y_lower_margin\":0.0,\"y_upper_margin\":0.0,\"y_lower_bound\":0.0,\"y_upper_bound\":0.0,\"log_y\":false,\"timezone\":null,\"crosshair\":null,\"omit_checkboxes\":false,\"categoryNames\":[],\"graphics_list\":[{\"type\":\"CategoryBars\",\"uid\":\"ea859191-bbc1-41b2-98cb-73cb1ef83da4\",\"visible\":true,\"yAxis\":null,\"hasClickAction\":false,\"showItemLabel\":false,\"center_series\":false,\"use_tool_tip\":true,\"value\":[[1,2,3],[4,5,6]],\"color\":null,\"base\":-2.0,\"width\":null,\"outline_color\":null,\"fill\":null,\"outline\":false,\"labelPosition\":\"CENTER\"}],\"orientation\":\"VERTICAL\",\"category_margin\":0.2,\"categoryNamesLabelAngle\":0.0}; console.log('plot this:'); console.log(j); window.initPlotd(j,'beakerChart16');</script></html>"
      ]
     },
     "execution_count": 16,
     "metadata": {},
     "output_type": "execute_result"
    }
   ],
   "source": [
    "import com.twosigma.beaker.chart.categoryplot.CategoryPlot\n",
    "import com.twosigma.beaker.chart.categoryplot.plotitem.*\n",
    "\n",
    "def bars = new CategoryBars(value: [[1, 2, 3], [4, 5, 6]], base: -2)\n",
    "new CategoryPlot() << bars"
   ]
  },
  {
   "cell_type": "code",
   "execution_count": 17,
   "metadata": {
    "collapsed": false
   },
   "outputs": [
    {
     "data": {
      "text/html": [
       "<html><div id='beakerChart17'></div><script>var j = {\"type\":\"CategoryPlot\",\"init_width\":640,\"init_height\":480,\"chart_title\":null,\"show_legend\":null,\"use_tool_tip\":true,\"legend_position\":{\"type\":\"LegendPosition\",\"position\":\"TOP_RIGHT\"},\"legend_layout\":\"VERTICAL\",\"element_styles\":{},\"domain_axis_label\":null,\"y_label\":\"\",\"rangeAxes\":[{\"type\":\"YAxis\",\"label\":\"\",\"auto_range\":true,\"auto_range_includes_zero\":false,\"lower_margin\":0.0,\"upper_margin\":0.0,\"lower_bound\":0.0,\"upper_bound\":0.0,\"use_log\":false,\"log_base\":10.0}],\"x_lower_margin\":0.05,\"x_upper_margin\":0.05,\"y_auto_range\":true,\"y_auto_range_includes_zero\":false,\"y_lower_margin\":0.0,\"y_upper_margin\":0.0,\"y_lower_bound\":0.0,\"y_upper_bound\":0.0,\"log_y\":false,\"timezone\":null,\"crosshair\":null,\"omit_checkboxes\":false,\"categoryNames\":[],\"graphics_list\":[{\"type\":\"CategoryBars\",\"uid\":\"28cc4ec3-02c4-4f64-ab19-b651c7af8e9d\",\"visible\":true,\"yAxis\":null,\"hasClickAction\":false,\"showItemLabel\":false,\"center_series\":false,\"use_tool_tip\":true,\"value\":[[1,2,3],[4,5,4]],\"color\":null,\"bases\":[-1,-3],\"width\":null,\"outline_color\":null,\"fill\":null,\"outline\":false,\"labelPosition\":\"CENTER\"}],\"orientation\":\"VERTICAL\",\"category_margin\":0.2,\"categoryNamesLabelAngle\":0.0}; console.log('plot this:'); console.log(j); window.initPlotd(j,'beakerChart17');</script></html>"
      ]
     },
     "execution_count": 17,
     "metadata": {},
     "output_type": "execute_result"
    }
   ],
   "source": [
    "import com.twosigma.beaker.chart.categoryplot.CategoryPlot\n",
    "import com.twosigma.beaker.chart.categoryplot.plotitem.*\n",
    "\n",
    "def bars = new CategoryBars(value: [[1, 2,  3], [4, 5, 4]], base: [-1, -3])\n",
    "new CategoryPlot() << bars"
   ]
  },
  {
   "cell_type": "code",
   "execution_count": 18,
   "metadata": {
    "collapsed": false
   },
   "outputs": [
    {
     "data": {
      "text/html": [
       "<html><div id='beakerChart18'></div><script>var j = {\"type\":\"CategoryPlot\",\"init_width\":640,\"init_height\":480,\"chart_title\":null,\"show_legend\":null,\"use_tool_tip\":true,\"legend_position\":{\"type\":\"LegendPosition\",\"position\":\"TOP_RIGHT\"},\"legend_layout\":\"VERTICAL\",\"element_styles\":{},\"domain_axis_label\":null,\"y_label\":\"\",\"rangeAxes\":[{\"type\":\"YAxis\",\"label\":\"\",\"auto_range\":true,\"auto_range_includes_zero\":false,\"lower_margin\":0.0,\"upper_margin\":0.0,\"lower_bound\":0.0,\"upper_bound\":0.0,\"use_log\":false,\"log_base\":10.0}],\"x_lower_margin\":0.05,\"x_upper_margin\":0.05,\"y_auto_range\":true,\"y_auto_range_includes_zero\":false,\"y_lower_margin\":0.0,\"y_upper_margin\":0.0,\"y_lower_bound\":0.0,\"y_upper_bound\":0.0,\"log_y\":false,\"timezone\":null,\"crosshair\":null,\"omit_checkboxes\":false,\"categoryNames\":[],\"graphics_list\":[{\"type\":\"CategoryBars\",\"uid\":\"9b1dc8c6-e01f-424c-85fa-604a8c161c42\",\"visible\":true,\"yAxis\":null,\"hasClickAction\":false,\"showItemLabel\":false,\"center_series\":false,\"use_tool_tip\":true,\"value\":[[1,2,3],[4,5,6]],\"color\":null,\"bases\":[[0,1,1],[-4,-5,-6]],\"width\":null,\"outline_color\":null,\"fill\":null,\"outline\":false,\"labelPosition\":\"CENTER\"}],\"orientation\":\"VERTICAL\",\"category_margin\":0.2,\"categoryNamesLabelAngle\":0.0}; console.log('plot this:'); console.log(j); window.initPlotd(j,'beakerChart18');</script></html>"
      ]
     },
     "execution_count": 18,
     "metadata": {},
     "output_type": "execute_result"
    }
   ],
   "source": [
    "import com.twosigma.beaker.chart.categoryplot.CategoryPlot\n",
    "import com.twosigma.beaker.chart.categoryplot.plotitem.*\n",
    "\n",
    "def bars = new CategoryBars(value: [[1, 2, 3], [4, 5, 6]],\n",
    "                            base: [[0, 1, 1], [-4, -5, -6]])\n",
    "new CategoryPlot() << bars"
   ]
  },
  {
   "cell_type": "code",
   "execution_count": 19,
   "metadata": {
    "collapsed": false
   },
   "outputs": [
    {
     "data": {
      "text/html": [
       "<html><div id='beakerChart19'></div><script>var j = {\"type\":\"CategoryPlot\",\"init_width\":640,\"init_height\":480,\"chart_title\":null,\"show_legend\":null,\"use_tool_tip\":true,\"legend_position\":{\"type\":\"LegendPosition\",\"position\":\"TOP_RIGHT\"},\"legend_layout\":\"VERTICAL\",\"element_styles\":{},\"domain_axis_label\":null,\"y_label\":\"\",\"rangeAxes\":[{\"type\":\"YAxis\",\"label\":\"\",\"auto_range\":true,\"auto_range_includes_zero\":false,\"lower_margin\":0.0,\"upper_margin\":0.0,\"lower_bound\":0.0,\"upper_bound\":0.0,\"use_log\":false,\"log_base\":10.0}],\"x_lower_margin\":0.05,\"x_upper_margin\":0.05,\"y_auto_range\":true,\"y_auto_range_includes_zero\":false,\"y_lower_margin\":0.0,\"y_upper_margin\":0.0,\"y_lower_bound\":0.0,\"y_upper_bound\":0.0,\"log_y\":false,\"timezone\":null,\"crosshair\":null,\"omit_checkboxes\":false,\"categoryNames\":[],\"graphics_list\":[{\"type\":\"CategoryBars\",\"uid\":\"435f1036-30b5-42de-9a4c-b681b06291c4\",\"visible\":true,\"yAxis\":null,\"hasClickAction\":false,\"showItemLabel\":false,\"center_series\":false,\"use_tool_tip\":true,\"value\":[[1,2,3],[4,5,6]],\"color\":null,\"base\":0.0,\"widths\":[[0.3,0.6,1.7],1.0],\"outline_color\":null,\"fill\":null,\"outline\":false,\"labelPosition\":\"CENTER\"}],\"orientation\":\"VERTICAL\",\"category_margin\":0.2,\"categoryNamesLabelAngle\":0.0}; console.log('plot this:'); console.log(j); window.initPlotd(j,'beakerChart19');</script></html>"
      ]
     },
     "execution_count": 19,
     "metadata": {},
     "output_type": "execute_result"
    }
   ],
   "source": [
    "import com.twosigma.beaker.chart.categoryplot.CategoryPlot\n",
    "import com.twosigma.beaker.chart.categoryplot.plotitem.*\n",
    "\n",
    "def bars = new CategoryBars(value: [[1, 2, 3], [4, 5, 6]],\n",
    "                            width: [[0.3, 0.6, 1.7], 1.0])\n",
    "new CategoryPlot() << bars"
   ]
  },
  {
   "cell_type": "code",
   "execution_count": 20,
   "metadata": {
    "collapsed": false
   },
   "outputs": [
    {
     "data": {
      "text/html": [
       "<html><div id='beakerChart20'></div><script>var j = {\"type\":\"CategoryPlot\",\"init_width\":640,\"init_height\":480,\"chart_title\":null,\"show_legend\":null,\"use_tool_tip\":true,\"legend_position\":{\"type\":\"LegendPosition\",\"position\":\"TOP_RIGHT\"},\"legend_layout\":\"VERTICAL\",\"element_styles\":{},\"domain_axis_label\":null,\"y_label\":\"\",\"rangeAxes\":[{\"type\":\"YAxis\",\"label\":\"\",\"auto_range\":true,\"auto_range_includes_zero\":false,\"lower_margin\":0.0,\"upper_margin\":0.0,\"lower_bound\":0.0,\"upper_bound\":0.0,\"use_log\":false,\"log_base\":10.0}],\"x_lower_margin\":0.05,\"x_upper_margin\":0.05,\"y_auto_range\":true,\"y_auto_range_includes_zero\":false,\"y_lower_margin\":0.0,\"y_upper_margin\":0.0,\"y_lower_bound\":0.0,\"y_upper_bound\":0.0,\"log_y\":false,\"timezone\":null,\"crosshair\":null,\"omit_checkboxes\":false,\"categoryNames\":[],\"graphics_list\":[{\"type\":\"CategoryBars\",\"uid\":\"b5b3a08a-75a6-417a-88e8-c369c9f4c2d4\",\"visible\":true,\"yAxis\":null,\"hasClickAction\":false,\"showItemLabel\":false,\"center_series\":false,\"use_tool_tip\":true,\"value\":[[1,2,3],[4,5,6]],\"color\":null,\"base\":0.0,\"width\":null,\"outline_colors\":[\"#FF000000\",\"#FFFF0000\"],\"fills\":[[true,true,false],[true,false,true]],\"outlines\":[[true,false,true],[true,true,false]],\"labelPosition\":\"CENTER\"}],\"orientation\":\"VERTICAL\",\"category_margin\":0.2,\"categoryNamesLabelAngle\":0.0}; console.log('plot this:'); console.log(j); window.initPlotd(j,'beakerChart20');</script></html>"
      ]
     },
     "execution_count": 20,
     "metadata": {},
     "output_type": "execute_result"
    }
   ],
   "source": [
    "import com.twosigma.beaker.chart.categoryplot.CategoryPlot\n",
    "import com.twosigma.beaker.chart.categoryplot.plotitem.*\n",
    "import com.twosigma.beaker.chart.Color\n",
    "\n",
    "def bars = new CategoryBars(value: [[1, 2, 3], [4, 5, 6]],\n",
    "                            fill: [[true, true, false], [true, false, true]],\n",
    "                            drawOutline: [[true, false, true], [true, true, false]],\n",
    "                            outlineColor: [Color.black, Color.red])\n",
    "new CategoryPlot() << bars"
   ]
  },
  {
   "cell_type": "code",
   "execution_count": 21,
   "metadata": {
    "collapsed": false
   },
   "outputs": [
    {
     "data": {
      "text/html": [
       "<html><div id='beakerChart21'></div><script>var j = {\"type\":\"CategoryPlot\",\"init_width\":640,\"init_height\":480,\"chart_title\":null,\"show_legend\":null,\"use_tool_tip\":true,\"legend_position\":{\"type\":\"LegendPosition\",\"position\":\"TOP_RIGHT\"},\"legend_layout\":\"VERTICAL\",\"element_styles\":{},\"domain_axis_label\":null,\"y_label\":\"\",\"rangeAxes\":[{\"type\":\"YAxis\",\"label\":\"\",\"auto_range\":true,\"auto_range_includes_zero\":false,\"lower_margin\":0.0,\"upper_margin\":0.0,\"lower_bound\":0.0,\"upper_bound\":0.0,\"use_log\":false,\"log_base\":10.0}],\"x_lower_margin\":0.05,\"x_upper_margin\":0.05,\"y_auto_range\":true,\"y_auto_range_includes_zero\":false,\"y_lower_margin\":0.0,\"y_upper_margin\":0.0,\"y_lower_bound\":0.0,\"y_upper_bound\":0.0,\"log_y\":false,\"timezone\":null,\"crosshair\":null,\"omit_checkboxes\":false,\"categoryNames\":[],\"graphics_list\":[{\"type\":\"CategoryBars\",\"uid\":\"e2efe7ba-c9e9-4d55-9365-28da41ca31ca\",\"visible\":true,\"yAxis\":null,\"hasClickAction\":false,\"showItemLabel\":false,\"center_series\":true,\"use_tool_tip\":true,\"value\":[[1,2,3],[4,5,8],[10,9,10]],\"color\":null,\"itemLabels\":[[\"1\",\"3\",\"6\"],[\"2\",\"3\",\"4\"],[\"3\",\"5\",\"2\"]],\"bases\":[0,[1,2,3],[4,5,8]],\"width\":null,\"outline_color\":null,\"fill\":null,\"outline\":false,\"labelPosition\":\"CENTER\"}],\"orientation\":\"VERTICAL\",\"category_margin\":0.2,\"categoryNamesLabelAngle\":0.0}; console.log('plot this:'); console.log(j); window.initPlotd(j,'beakerChart21');</script></html>"
      ]
     },
     "execution_count": 21,
     "metadata": {},
     "output_type": "execute_result"
    }
   ],
   "source": [
    "import com.twosigma.beaker.chart.categoryplot.CategoryPlot\n",
    "import com.twosigma.beaker.chart.categoryplot.plotitem.*\n",
    "\n",
    "def bars = new CategoryBars(value: [[1, 2, 3], [4, 5, 8], [10, 9, 10]],\n",
    "                           base: [0, [1, 2, 3], [4, 5, 8]],\n",
    "                           centerSeries: true,\n",
    "                           itemLabel: {value, base-> Math.abs(value-base)})\n",
    "new CategoryPlot() << bars"
   ]
  },
  {
   "cell_type": "code",
   "execution_count": 22,
   "metadata": {
    "collapsed": false
   },
   "outputs": [
    {
     "data": {
      "text/html": [
       "<html><div id='beakerChart22'></div><script>var j = {\"type\":\"CategoryPlot\",\"init_width\":640,\"init_height\":480,\"chart_title\":null,\"show_legend\":null,\"use_tool_tip\":true,\"legend_position\":{\"type\":\"LegendPosition\",\"position\":\"TOP_RIGHT\"},\"legend_layout\":\"VERTICAL\",\"element_styles\":{},\"domain_axis_label\":null,\"y_label\":\"\",\"rangeAxes\":[{\"type\":\"YAxis\",\"label\":\"\",\"auto_range\":true,\"auto_range_includes_zero\":false,\"lower_margin\":0.0,\"upper_margin\":0.0,\"lower_bound\":0.0,\"upper_bound\":0.0,\"use_log\":false,\"log_base\":10.0}],\"x_lower_margin\":0.05,\"x_upper_margin\":0.05,\"y_auto_range\":true,\"y_auto_range_includes_zero\":false,\"y_lower_margin\":0.0,\"y_upper_margin\":0.0,\"y_lower_bound\":0.0,\"y_upper_bound\":0.0,\"log_y\":false,\"timezone\":null,\"crosshair\":null,\"omit_checkboxes\":false,\"categoryNames\":[],\"graphics_list\":[{\"type\":\"CategoryStems\",\"uid\":\"02b19f88-0dda-4e6b-866f-944041e38086\",\"visible\":true,\"yAxis\":null,\"hasClickAction\":false,\"showItemLabel\":false,\"center_series\":false,\"use_tool_tip\":true,\"value\":[[1,2,4],[4,5,8]],\"colors\":[\"#FF000000\",\"#FFFF0000\"],\"base\":null,\"width\":1.5,\"styles\":[\"DASH\",\"LONGDASH\"]}],\"orientation\":\"VERTICAL\",\"category_margin\":0.2,\"categoryNamesLabelAngle\":0.0}; console.log('plot this:'); console.log(j); window.initPlotd(j,'beakerChart22');</script></html>"
      ]
     },
     "execution_count": 22,
     "metadata": {},
     "output_type": "execute_result"
    }
   ],
   "source": [
    "import com.twosigma.beaker.chart.xychart.plotitem.*\n",
    "import com.twosigma.beaker.chart.categoryplot.CategoryPlot\n",
    "import com.twosigma.beaker.chart.categoryplot.plotitem.*\n",
    "import com.twosigma.beaker.chart.Color\n",
    "\n",
    "def ss = [StrokeType.DASH, StrokeType.LONGDASH]\n",
    "def cs = [Color.black, Color.red]\n",
    "new CategoryPlot() << new CategoryStems(value: [[1, 2, 4], [4, 5, 8]], color: cs, style: ss)"
   ]
  },
  {
   "cell_type": "code",
   "execution_count": 23,
   "metadata": {
    "collapsed": false
   },
   "outputs": [
    {
     "data": {
      "text/html": [
       "<html><div id='beakerChart23'></div><script>var j = {\"type\":\"CategoryPlot\",\"init_width\":640,\"init_height\":480,\"chart_title\":null,\"show_legend\":null,\"use_tool_tip\":true,\"legend_position\":{\"type\":\"LegendPosition\",\"position\":\"TOP_RIGHT\"},\"legend_layout\":\"VERTICAL\",\"element_styles\":{},\"domain_axis_label\":null,\"y_label\":\"\",\"rangeAxes\":[{\"type\":\"YAxis\",\"label\":\"\",\"auto_range\":true,\"auto_range_includes_zero\":false,\"lower_margin\":0.0,\"upper_margin\":0.0,\"lower_bound\":0.0,\"upper_bound\":0.0,\"use_log\":false,\"log_base\":10.0}],\"x_lower_margin\":0.05,\"x_upper_margin\":0.05,\"y_auto_range\":true,\"y_auto_range_includes_zero\":false,\"y_lower_margin\":0.0,\"y_upper_margin\":0.0,\"y_lower_bound\":0.0,\"y_upper_bound\":0.0,\"log_y\":false,\"timezone\":null,\"crosshair\":null,\"omit_checkboxes\":false,\"categoryNames\":[],\"graphics_list\":[{\"type\":\"CategoryPoints\",\"uid\":\"c65a018f-a62b-4eee-90f9-1900562c4704\",\"visible\":true,\"yAxis\":null,\"hasClickAction\":false,\"showItemLabel\":false,\"center_series\":false,\"use_tool_tip\":true,\"value\":[[1,2,4],[4,5,8]],\"color\":null,\"size\":6.0,\"shape\":\"DEFAULT\",\"fill\":null,\"outline_color\":null}],\"orientation\":\"VERTICAL\",\"category_margin\":0.2,\"categoryNamesLabelAngle\":0.0}; console.log('plot this:'); console.log(j); window.initPlotd(j,'beakerChart23');</script></html>"
      ]
     },
     "execution_count": 23,
     "metadata": {},
     "output_type": "execute_result"
    }
   ],
   "source": [
    "import com.twosigma.beaker.chart.categoryplot.CategoryPlot\n",
    "import com.twosigma.beaker.chart.categoryplot.plotitem.*\n",
    "import com.twosigma.beaker.chart.Color\n",
    "\n",
    "new CategoryPlot() << new CategoryPoints(value: [[1, 2, 4], [4, 5, 8]])"
   ]
  },
  {
   "cell_type": "code",
   "execution_count": 24,
   "metadata": {
    "collapsed": false
   },
   "outputs": [
    {
     "data": {
      "text/html": [
       "<html><div id='beakerChart24'></div><script>var j = {\"type\":\"CategoryPlot\",\"init_width\":640,\"init_height\":480,\"chart_title\":null,\"show_legend\":null,\"use_tool_tip\":true,\"legend_position\":{\"type\":\"LegendPosition\",\"position\":\"TOP_RIGHT\"},\"legend_layout\":\"VERTICAL\",\"element_styles\":{},\"domain_axis_label\":null,\"y_label\":\"\",\"rangeAxes\":[{\"type\":\"YAxis\",\"label\":\"\",\"auto_range\":true,\"auto_range_includes_zero\":false,\"lower_margin\":0.0,\"upper_margin\":0.0,\"lower_bound\":0.0,\"upper_bound\":0.0,\"use_log\":false,\"log_base\":10.0}],\"x_lower_margin\":0.05,\"x_upper_margin\":0.05,\"y_auto_range\":true,\"y_auto_range_includes_zero\":false,\"y_lower_margin\":0.0,\"y_upper_margin\":0.0,\"y_lower_bound\":0.0,\"y_upper_bound\":0.0,\"log_y\":false,\"timezone\":null,\"crosshair\":null,\"omit_checkboxes\":false,\"categoryNames\":[],\"graphics_list\":[{\"type\":\"CategoryLines\",\"uid\":\"260f8883-0c85-4c6c-b698-eca4aa89f13c\",\"visible\":true,\"yAxis\":null,\"hasClickAction\":false,\"showItemLabel\":false,\"center_series\":false,\"use_tool_tip\":true,\"seriesNames\":[\"Lanthanide\",\"Actinide\"],\"value\":[[1,2,4],[4,5,8]],\"color\":null,\"width\":1.5,\"styles\":[\"DASH\",\"DOT\"]}],\"orientation\":\"VERTICAL\",\"category_margin\":0.2,\"categoryNamesLabelAngle\":0.0}; console.log('plot this:'); console.log(j); window.initPlotd(j,'beakerChart24');</script></html>"
      ]
     },
     "execution_count": 24,
     "metadata": {},
     "output_type": "execute_result"
    }
   ],
   "source": [
    "import com.twosigma.beaker.chart.xychart.plotitem.*\n",
    "import com.twosigma.beaker.chart.categoryplot.CategoryPlot\n",
    "import com.twosigma.beaker.chart.categoryplot.plotitem.*\n",
    "import com.twosigma.beaker.chart.Color\n",
    "\n",
    "def ss = [StrokeType.DASH, StrokeType.DOT]\n",
    "new CategoryPlot() << new CategoryLines(value: [[1, 2, 4], [4, 5, 8]], style: ss,\n",
    "                                        seriesNames:[\"Lanthanide\", \"Actinide\"])"
   ]
  },
  {
   "cell_type": "code",
   "execution_count": 25,
   "metadata": {
    "collapsed": false
   },
   "outputs": [
    {
     "data": {
      "text/html": [
       "<html><div id='beakerChart25'></div><script>var j = {\"type\":\"CategoryPlot\",\"init_width\":640,\"init_height\":480,\"chart_title\":null,\"show_legend\":null,\"use_tool_tip\":true,\"legend_position\":{\"type\":\"LegendPosition\",\"position\":\"TOP_RIGHT\"},\"legend_layout\":\"VERTICAL\",\"element_styles\":{},\"domain_axis_label\":null,\"y_label\":\"\",\"rangeAxes\":[{\"type\":\"YAxis\",\"label\":\"\",\"auto_range\":true,\"auto_range_includes_zero\":false,\"lower_margin\":0.0,\"upper_margin\":0.0,\"lower_bound\":0.0,\"upper_bound\":0.0,\"use_log\":false,\"log_base\":10.0}],\"x_lower_margin\":0.05,\"x_upper_margin\":0.05,\"y_auto_range\":true,\"y_auto_range_includes_zero\":false,\"y_lower_margin\":0.0,\"y_upper_margin\":0.0,\"y_lower_bound\":0.0,\"y_upper_bound\":0.0,\"log_y\":false,\"timezone\":null,\"crosshair\":null,\"omit_checkboxes\":false,\"categoryNames\":[],\"graphics_list\":[{\"type\":\"CategoryLines\",\"uid\":\"550d34c3-995b-4989-bcf3-a9b58fdb4034\",\"visible\":true,\"yAxis\":null,\"hasClickAction\":false,\"showItemLabel\":false,\"center_series\":true,\"use_tool_tip\":true,\"value\":[[1,2,4],[4,5,8]],\"color\":null,\"width\":1.5,\"style\":\"SOLID\"},{\"type\":\"CategoryPoints\",\"uid\":\"c058a085-4b3b-4939-b4ec-ca8a2e586c8f\",\"visible\":true,\"yAxis\":null,\"hasClickAction\":false,\"showItemLabel\":false,\"center_series\":true,\"use_tool_tip\":true,\"value\":[[1,2,4],[4,5,8]],\"color\":null,\"size\":6.0,\"shape\":\"DEFAULT\",\"fill\":null,\"outline_color\":null},{\"type\":\"CategoryStems\",\"uid\":\"4e0338b9-509e-46f4-b189-5d00ccb5a35d\",\"visible\":true,\"yAxis\":null,\"hasClickAction\":false,\"showItemLabel\":false,\"center_series\":false,\"use_tool_tip\":true,\"value\":[[1,2,4]],\"color\":\"#FF808080\",\"bases\":[[4,5,8]],\"width\":1.5,\"style\":\"DOT\"}],\"orientation\":\"VERTICAL\",\"category_margin\":0.2,\"categoryNamesLabelAngle\":0.0}; console.log('plot this:'); console.log(j); window.initPlotd(j,'beakerChart25');</script></html>"
      ]
     },
     "execution_count": 25,
     "metadata": {},
     "output_type": "execute_result"
    }
   ],
   "source": [
    "import com.twosigma.beaker.chart.xychart.plotitem.*\n",
    "import com.twosigma.beaker.chart.categoryplot.CategoryPlot\n",
    "import com.twosigma.beaker.chart.categoryplot.plotitem.*\n",
    "import com.twosigma.beaker.chart.Color\n",
    "\n",
    "def s1 = [1, 2, 4]\n",
    "def s2 = [4, 5, 8]\n",
    "def lines = new CategoryLines(value: [s1, s2], centerSeries: true)\n",
    "def points = new CategoryPoints(value: [s1, s2], centerSeries: true)\n",
    "def stems = new CategoryStems(value:[s1], base: [s2], style: StrokeType.DOT, color: Color.gray)\n",
    "new CategoryPlot() << lines << points << stems"
   ]
  },
  {
   "cell_type": "code",
   "execution_count": 26,
   "metadata": {
    "collapsed": false
   },
   "outputs": [
    {
     "data": {
      "text/html": [
       "<html><div id='beakerChart26'></div><script>var j = {\"type\":\"CategoryPlot\",\"init_width\":500,\"init_height\":400,\"chart_title\":\"Bar Chart Demo\",\"show_legend\":null,\"use_tool_tip\":true,\"legend_position\":{\"type\":\"LegendPosition\",\"position\":\"TOP_RIGHT\"},\"legend_layout\":\"VERTICAL\",\"element_styles\":{},\"domain_axis_label\":\"Alkali\",\"y_label\":\"Temperature ° Celcius\",\"rangeAxes\":[{\"type\":\"YAxis\",\"label\":\"Temperature ° Celcius\",\"auto_range\":true,\"auto_range_includes_zero\":false,\"lower_margin\":0.0,\"upper_margin\":0.0,\"lower_bound\":0.0,\"upper_bound\":0.0,\"use_log\":false,\"log_base\":10.0}],\"x_lower_margin\":0.05,\"x_upper_margin\":0.05,\"y_auto_range\":true,\"y_auto_range_includes_zero\":false,\"y_lower_margin\":0.0,\"y_upper_margin\":0.0,\"y_lower_bound\":0.0,\"y_upper_bound\":0.0,\"log_y\":false,\"timezone\":null,\"crosshair\":null,\"omit_checkboxes\":false,\"categoryNames\":[\"Lithium\",\"Sodium\",\"Potassium\",\"Rubidium\"],\"graphics_list\":[{\"type\":\"CategoryBars\",\"uid\":\"3b328458-a79a-4837-9608-503a29b383ec\",\"visible\":true,\"yAxis\":null,\"hasClickAction\":false,\"showItemLabel\":false,\"center_series\":false,\"use_tool_tip\":true,\"seriesNames\":[\"Solid\",\"Liquid\"],\"value\":[[10,15,13,7],[22,18,28,17]],\"colors\":[\"#FFF79646\",\"#FFFFC800\",\"#FF9BBB59\"],\"base\":0.0,\"width\":null,\"outline_color\":null,\"fill\":null,\"outline\":false,\"labelPosition\":\"CENTER\"},{\"type\":\"CategoryStems\",\"uid\":\"7d6ae282-d005-48a0-8c18-5a183fc99fdf\",\"visible\":true,\"yAxis\":null,\"hasClickAction\":false,\"showItemLabel\":false,\"center_series\":false,\"use_tool_tip\":true,\"value\":[[12.4,19.5,15.1,8.2],[24.3,23.3,30.1,18.2]],\"color\":\"#FF9BBB59\",\"bases\":[[7.6,10.5,10.9,5.8],[19.7,12.7,25.9,15.8]],\"width\":1.5,\"style\":\"SOLID\"},{\"type\":\"CategoryPoints\",\"uid\":\"770f4834-f3e9-4d29-b1ac-557259bc3ae5\",\"visible\":true,\"yAxis\":null,\"hasClickAction\":false,\"showItemLabel\":false,\"center_series\":false,\"use_tool_tip\":true,\"value\":[[12.4,19.5,15.1,8.2],[24.3,23.3,30.1,18.2]],\"color\":null,\"size\":12.0,\"shape\":\"DEFAULT\",\"fill\":null,\"outline_color\":\"#FF9BBB59\"},{\"type\":\"CategoryPoints\",\"uid\":\"d04e7ab0-4811-4480-bd47-a77adba8a737\",\"visible\":true,\"yAxis\":null,\"hasClickAction\":false,\"showItemLabel\":false,\"center_series\":false,\"use_tool_tip\":true,\"value\":[[7.6,10.5,10.9,5.8],[19.7,12.7,25.9,15.8]],\"color\":null,\"size\":12.0,\"shape\":\"DEFAULT\",\"fill\":null,\"outline_color\":\"#FF9BBB59\"}],\"orientation\":\"VERTICAL\",\"category_margin\":0.2,\"categoryNamesLabelAngle\":0.0}; console.log('plot this:'); console.log(j); window.initPlotd(j,'beakerChart26');</script></html>"
      ]
     },
     "execution_count": 26,
     "metadata": {},
     "output_type": "execute_result"
    }
   ],
   "source": [
    "import com.twosigma.beaker.chart.categoryplot.CategoryPlot\n",
    "import com.twosigma.beaker.chart.categoryplot.plotitem.*\n",
    "import com.twosigma.beaker.chart.Color\n",
    "\n",
    "def plot = new CategoryPlot(initWidth: 500, initHeight: 400,\n",
    "                            title: \"Bar Chart Demo\",\n",
    "                            xLabel: \"Alkali\", yLabel: \"Temperature ° Celcius\",\n",
    "                            categoryNames:[\"Lithium\", \"Sodium\", \"Potassium\", \"Rubidium\"])\n",
    "def s1 = [[10, 15, 13, 7], [22, 18, 28, 17]]\n",
    "def high = [[12.4, 19.5, 15.1, 8.2], [24.3, 23.3, 30.1, 18.2]]\n",
    "def low = [[7.6, 10.5, 10.9, 5.8], [19.7, 12.7, 25.9, 15.8]]\n",
    "def color = [new Color(247, 150, 70), Color.orange, new Color(155, 187, 89)]\n",
    "plot << new CategoryBars(value: s1, color: color, seriesNames: [\"Solid\", \"Liquid\"])\n",
    "plot << new CategoryStems(value: high, base: low, color: color[2])\n",
    "plot << new CategoryPoints(value: high, outlineColor: color[2], size:12)\n",
    "plot << new CategoryPoints(value: low, outlineColor: color[2], size:12)"
   ]
  },
  {
   "cell_type": "code",
   "execution_count": 27,
   "metadata": {
    "collapsed": false
   },
   "outputs": [
    {
     "data": {
      "text/html": [
       "<html><div id='beakerChart27'></div><script>var j = {\"type\":\"CategoryPlot\",\"init_width\":640,\"init_height\":480,\"chart_title\":\"Multiple Y Axes Demo\",\"show_legend\":null,\"use_tool_tip\":true,\"legend_position\":{\"type\":\"LegendPosition\",\"position\":\"TOP_RIGHT\"},\"legend_layout\":\"VERTICAL\",\"element_styles\":{},\"domain_axis_label\":null,\"y_label\":\"Price\",\"rangeAxes\":[{\"type\":\"YAxis\",\"label\":\"Price\",\"auto_range\":true,\"auto_range_includes_zero\":false,\"lower_margin\":0.0,\"upper_margin\":0.0,\"lower_bound\":0.0,\"upper_bound\":0.0,\"use_log\":false,\"log_base\":10.0},{\"type\":\"YAxis\",\"label\":\"Volume\",\"auto_range\":true,\"auto_range_includes_zero\":false,\"lower_margin\":0.0,\"upper_margin\":1.0,\"lower_bound\":0.0,\"upper_bound\":0.0,\"use_log\":false,\"log_base\":10.0}],\"x_lower_margin\":0.05,\"x_upper_margin\":0.05,\"y_auto_range\":true,\"y_auto_range_includes_zero\":false,\"y_lower_margin\":0.0,\"y_upper_margin\":0.0,\"y_lower_bound\":0.0,\"y_upper_bound\":0.0,\"log_y\":false,\"timezone\":null,\"crosshair\":null,\"omit_checkboxes\":false,\"categoryNames\":[\"Q1\",\"Q2\",\"Q3\",\"Q4\"],\"graphics_list\":[{\"type\":\"CategoryBars\",\"uid\":\"5f8ff8ec-1a07-44e1-87a9-fb662041e1b2\",\"visible\":true,\"yAxis\":\"Volume\",\"hasClickAction\":false,\"showItemLabel\":true,\"center_series\":false,\"use_tool_tip\":true,\"value\":[[1500,2200,2500,4000]],\"color\":\"#FFFFAFAF\",\"base\":0.0,\"width\":0.6,\"outline_color\":null,\"fill\":null,\"outline\":false,\"labelPosition\":\"VALUE_INSIDE\"},{\"type\":\"CategoryLines\",\"uid\":\"cc9f9d72-cd3c-4a1a-9acd-2bedaf56cfb6\",\"visible\":true,\"yAxis\":null,\"hasClickAction\":false,\"showItemLabel\":true,\"center_series\":false,\"use_tool_tip\":true,\"value\":[[5,2,3.5,4]],\"color\":\"#FF808080\",\"width\":1.5,\"style\":\"SOLID\"},{\"type\":\"CategoryPoints\",\"uid\":\"ab5cd548-78d1-4b23-9308-0662ae8c3bb8\",\"visible\":true,\"yAxis\":null,\"hasClickAction\":false,\"showItemLabel\":false,\"center_series\":false,\"use_tool_tip\":true,\"value\":[[5,2,3.5,4]],\"color\":\"#FF808080\",\"size\":6.0,\"shape\":\"DEFAULT\",\"fill\":null,\"outline_color\":null}],\"orientation\":\"VERTICAL\",\"category_margin\":0.2,\"categoryNamesLabelAngle\":0.0}; console.log('plot this:'); console.log(j); window.initPlotd(j,'beakerChart27');</script></html>"
      ]
     },
     "execution_count": 27,
     "metadata": {},
     "output_type": "execute_result"
    }
   ],
   "source": [
    "import com.twosigma.beaker.chart.categoryplot.CategoryPlot\n",
    "import com.twosigma.beaker.chart.categoryplot.plotitem.*\n",
    "import com.twosigma.beaker.chart.Color\n",
    "import com.twosigma.beaker.chart.xychart.plotitem.*\n",
    "\n",
    "def p = new CategoryPlot(title: \"Multiple Y Axes Demo\",\n",
    "                         yLabel: \"Price\",\n",
    "                         categoryNames: [\"Q1\", \"Q2\", \"Q3\", \"Q4\"])\n",
    "p << new YAxis(label: \"Volume\", upperMargin: 1)\n",
    "p << new CategoryBars(value: [[1500, 2200, 2500, 4000]], width: 0.6,\n",
    "                      color: Color.PINK, yAxis: \"Volume\", showItemLabel: true,\n",
    "                      labelPosition: LabelPositionType.VALUE_INSIDE)\n",
    "p << new CategoryLines(value: [[5, 2, 3.5, 4]], color: Color.GRAY,\n",
    "                       showItemLabel:true)\n",
    "p << new CategoryPoints(value:[[5, 2, 3.5, 4]], color:Color.GRAY)"
   ]
  },
  {
   "cell_type": "code",
   "execution_count": 28,
   "metadata": {
    "collapsed": false
   },
   "outputs": [
    {
     "data": {
      "text/html": [
       "<html><div id='beakerChart28'></div><script>var j = {\"type\":\"CategoryPlot\",\"init_width\":640,\"init_height\":480,\"chart_title\":null,\"show_legend\":null,\"use_tool_tip\":true,\"legend_position\":{\"type\":\"LegendPosition\",\"position\":\"TOP_RIGHT\"},\"legend_layout\":\"VERTICAL\",\"element_styles\":{},\"domain_axis_label\":null,\"y_label\":\"\",\"rangeAxes\":[{\"type\":\"YAxis\",\"label\":\"\",\"auto_range\":true,\"auto_range_includes_zero\":false,\"lower_margin\":0.0,\"upper_margin\":0.0,\"lower_bound\":0.0,\"upper_bound\":0.0,\"use_log\":false,\"log_base\":10.0}],\"x_lower_margin\":0.05,\"x_upper_margin\":0.05,\"y_auto_range\":true,\"y_auto_range_includes_zero\":false,\"y_lower_margin\":0.0,\"y_upper_margin\":0.0,\"y_lower_bound\":0.0,\"y_upper_bound\":0.0,\"log_y\":false,\"timezone\":null,\"crosshair\":null,\"omit_checkboxes\":false,\"categoryNames\":[],\"graphics_list\":[{\"type\":\"CategoryStems\",\"uid\":\"d7e55a8f-1345-4623-b144-718e57fd3496\",\"visible\":true,\"yAxis\":null,\"hasClickAction\":false,\"showItemLabel\":true,\"center_series\":false,\"use_tool_tip\":true,\"value\":[[-3,2,4],[4,5,8]],\"color\":null,\"base\":null,\"width\":10.0,\"style\":\"SOLID\"}],\"orientation\":\"VERTICAL\",\"category_margin\":0.2,\"categoryNamesLabelAngle\":0.0}; console.log('plot this:'); console.log(j); window.initPlotd(j,'beakerChart28');</script></html>"
      ]
     },
     "execution_count": 28,
     "metadata": {},
     "output_type": "execute_result"
    }
   ],
   "source": [
    "import com.twosigma.beaker.chart.categoryplot.CategoryPlot\n",
    "import com.twosigma.beaker.chart.categoryplot.plotitem.*\n",
    "import com.twosigma.beaker.chart.Color\n",
    "\n",
    "new CategoryPlot() << new CategoryStems(value:[[-3, 2, 4], [4, 5, 8]],\n",
    "                                        width: 10, showItemLabel: true)"
   ]
  },
  {
   "cell_type": "code",
   "execution_count": 29,
   "metadata": {
    "collapsed": false
   },
   "outputs": [
    {
     "data": {
      "text/html": [
       "<html><div id='beakerChart29'></div><script>var j = {\"type\":\"CategoryPlot\",\"init_width\":640,\"init_height\":480,\"chart_title\":null,\"show_legend\":null,\"use_tool_tip\":true,\"legend_position\":{\"type\":\"LegendPosition\",\"position\":\"TOP_RIGHT\"},\"legend_layout\":\"VERTICAL\",\"element_styles\":{},\"domain_axis_label\":null,\"y_label\":\"\",\"rangeAxes\":[{\"type\":\"YAxis\",\"label\":\"\",\"auto_range\":true,\"auto_range_includes_zero\":false,\"lower_margin\":0.0,\"upper_margin\":0.0,\"lower_bound\":0.0,\"upper_bound\":0.0,\"use_log\":false,\"log_base\":10.0}],\"x_lower_margin\":0.05,\"x_upper_margin\":0.05,\"y_auto_range\":true,\"y_auto_range_includes_zero\":false,\"y_lower_margin\":0.0,\"y_upper_margin\":0.0,\"y_lower_bound\":0.0,\"y_upper_bound\":0.0,\"log_y\":false,\"timezone\":null,\"crosshair\":null,\"omit_checkboxes\":false,\"categoryNames\":[],\"graphics_list\":[{\"type\":\"CategoryBars\",\"uid\":\"f6b12525-ae77-4f04-a7e3-ccdd233a1abe\",\"visible\":true,\"yAxis\":null,\"hasClickAction\":false,\"showItemLabel\":true,\"center_series\":false,\"use_tool_tip\":true,\"value\":[[-5,2,3],[1,3,5]],\"color\":null,\"base\":0.0,\"width\":null,\"outline_color\":null,\"fill\":null,\"outline\":false,\"labelPosition\":\"CENTER\"}],\"orientation\":\"VERTICAL\",\"category_margin\":0.2,\"categoryNamesLabelAngle\":0.0}; console.log('plot this:'); console.log(j); window.initPlotd(j,'beakerChart29');</script></html>"
      ]
     },
     "execution_count": 29,
     "metadata": {},
     "output_type": "execute_result"
    }
   ],
   "source": [
    "import com.twosigma.beaker.chart.categoryplot.CategoryPlot\n",
    "import com.twosigma.beaker.chart.categoryplot.plotitem.*\n",
    "import com.twosigma.beaker.chart.Color\n",
    "\n",
    "def bars = new CategoryBars(value: [[-5, 2, 3], [1, 3, 5]],\n",
    "                            showItemLabel: true)\n",
    "new CategoryPlot() << bars"
   ]
  },
  {
   "cell_type": "code",
   "execution_count": 30,
   "metadata": {
    "collapsed": false
   },
   "outputs": [
    {
     "data": {
      "text/html": [
       "<html><div id='beakerChart30'></div><script>var j = {\"type\":\"CategoryPlot\",\"init_width\":640,\"init_height\":480,\"chart_title\":null,\"show_legend\":null,\"use_tool_tip\":true,\"legend_position\":{\"type\":\"LegendPosition\",\"position\":\"TOP_RIGHT\"},\"legend_layout\":\"VERTICAL\",\"element_styles\":{},\"domain_axis_label\":null,\"y_label\":\"\",\"rangeAxes\":[{\"type\":\"YAxis\",\"label\":\"\",\"auto_range\":true,\"auto_range_includes_zero\":false,\"lower_margin\":0.0,\"upper_margin\":0.0,\"lower_bound\":0.0,\"upper_bound\":0.0,\"use_log\":false,\"log_base\":10.0}],\"x_lower_margin\":0.05,\"x_upper_margin\":0.05,\"y_auto_range\":true,\"y_auto_range_includes_zero\":false,\"y_lower_margin\":0.0,\"y_upper_margin\":0.0,\"y_lower_bound\":0.0,\"y_upper_bound\":0.0,\"log_y\":false,\"timezone\":null,\"crosshair\":null,\"omit_checkboxes\":false,\"categoryNames\":[],\"graphics_list\":[{\"type\":\"CategoryBars\",\"uid\":\"65e6ca12-c8b0-463e-92ef-4204df11a576\",\"visible\":true,\"yAxis\":null,\"hasClickAction\":false,\"showItemLabel\":true,\"center_series\":false,\"use_tool_tip\":true,\"value\":[[-5,2,3],[1,3,5]],\"color\":null,\"base\":0.0,\"width\":null,\"outline_color\":null,\"fill\":null,\"outline\":false,\"labelPosition\":\"BASE_OUTSIDE\"}],\"orientation\":\"VERTICAL\",\"category_margin\":0.2,\"categoryNamesLabelAngle\":0.0}; console.log('plot this:'); console.log(j); window.initPlotd(j,'beakerChart30');</script></html>"
      ]
     },
     "execution_count": 30,
     "metadata": {},
     "output_type": "execute_result"
    }
   ],
   "source": [
    "import com.twosigma.beaker.chart.categoryplot.CategoryPlot\n",
    "import com.twosigma.beaker.chart.categoryplot.plotitem.*\n",
    "import com.twosigma.beaker.chart.Color\n",
    "import com.twosigma.beaker.chart.xychart.plotitem.*\n",
    "\n",
    "def bars = new CategoryBars(value: [[-5, 2, 3], [1, 3, 5]],\n",
    "                            labelPosition: LabelPositionType.BASE_OUTSIDE,\n",
    "                            showItemLabel: true)\n",
    "new CategoryPlot() << bars"
   ]
  },
  {
   "cell_type": "code",
   "execution_count": 31,
   "metadata": {
    "collapsed": false
   },
   "outputs": [
    {
     "data": {
      "text/html": [
       "<html><div id='beakerChart31'></div><script>var j = {\"type\":\"CategoryPlot\",\"init_width\":640,\"init_height\":480,\"chart_title\":\"Move mouse cursor over bars\",\"show_legend\":null,\"use_tool_tip\":true,\"legend_position\":{\"type\":\"LegendPosition\",\"position\":\"TOP_RIGHT\"},\"legend_layout\":\"VERTICAL\",\"element_styles\":{},\"domain_axis_label\":null,\"y_label\":\"\",\"rangeAxes\":[{\"type\":\"YAxis\",\"label\":\"\",\"auto_range\":true,\"auto_range_includes_zero\":false,\"lower_margin\":0.0,\"upper_margin\":0.0,\"lower_bound\":0.0,\"upper_bound\":0.0,\"use_log\":false,\"log_base\":10.0}],\"x_lower_margin\":0.05,\"x_upper_margin\":0.05,\"y_auto_range\":true,\"y_auto_range_includes_zero\":false,\"y_lower_margin\":0.0,\"y_upper_margin\":0.0,\"y_lower_bound\":0.0,\"y_upper_bound\":0.0,\"log_y\":false,\"timezone\":null,\"crosshair\":null,\"omit_checkboxes\":false,\"categoryNames\":[],\"graphics_list\":[{\"type\":\"CategoryBars\",\"uid\":\"7c161284-7834-4d60-9fe6-72a3fb4d2345\",\"visible\":true,\"yAxis\":null,\"hasClickAction\":false,\"showItemLabel\":false,\"center_series\":false,\"use_tool_tip\":false,\"value\":[[-5,2,3],[1,3,5]],\"color\":null,\"base\":0.0,\"width\":null,\"outline_color\":null,\"fill\":null,\"outline\":false,\"labelPosition\":\"CENTER\"}],\"orientation\":\"VERTICAL\",\"category_margin\":0.2,\"categoryNamesLabelAngle\":0.0}; console.log('plot this:'); console.log(j); window.initPlotd(j,'beakerChart31');</script></html>"
      ]
     },
     "execution_count": 31,
     "metadata": {},
     "output_type": "execute_result"
    }
   ],
   "source": [
    "import com.twosigma.beaker.chart.categoryplot.CategoryPlot\n",
    "import com.twosigma.beaker.chart.categoryplot.plotitem.*\n",
    "import com.twosigma.beaker.chart.Color\n",
    "\n",
    "def plot = new CategoryPlot(title: \"Move mouse cursor over bars\")\n",
    "def bars = new CategoryBars(value: [[-5, 2, 3], [1, 3, 5]], useToolTip: false)\n",
    "plot << bars"
   ]
  },
  {
   "cell_type": "code",
   "execution_count": 32,
   "metadata": {
    "collapsed": false
   },
   "outputs": [
    {
     "data": {
      "text/html": [
       "<html><div id='beakerChart32'></div><script>var j = {\"type\":\"CategoryPlot\",\"init_width\":640,\"init_height\":480,\"chart_title\":null,\"show_legend\":null,\"use_tool_tip\":true,\"legend_position\":{\"type\":\"LegendPosition\",\"position\":\"TOP_RIGHT\"},\"legend_layout\":\"VERTICAL\",\"element_styles\":{},\"domain_axis_label\":null,\"y_label\":\"\",\"rangeAxes\":[{\"type\":\"YAxis\",\"label\":\"\",\"auto_range\":true,\"auto_range_includes_zero\":false,\"lower_margin\":0.0,\"upper_margin\":0.0,\"lower_bound\":0.0,\"upper_bound\":0.0,\"use_log\":false,\"log_base\":10.0}],\"x_lower_margin\":0.05,\"x_upper_margin\":0.05,\"y_auto_range\":true,\"y_auto_range_includes_zero\":false,\"y_lower_margin\":0.0,\"y_upper_margin\":0.0,\"y_lower_bound\":0.0,\"y_upper_bound\":0.0,\"log_y\":false,\"timezone\":null,\"crosshair\":null,\"omit_checkboxes\":false,\"categoryNames\":[],\"graphics_list\":[{\"type\":\"CategoryBars\",\"uid\":\"83dc0731-5390-4a02-bb31-ec4473fdb90a\",\"visible\":true,\"yAxis\":null,\"hasClickAction\":false,\"showItemLabel\":false,\"center_series\":false,\"use_tool_tip\":true,\"value\":[[1,1],[2,3],[3,5]],\"color\":null,\"base\":0.0,\"width\":null,\"outline_color\":null,\"fill\":null,\"outline\":false,\"labelPosition\":\"CENTER\"}],\"orientation\":\"VERTICAL\",\"category_margin\":0.2,\"categoryNamesLabelAngle\":0.0}; console.log('plot this:'); console.log(j); window.initPlotd(j,'beakerChart32');</script></html>"
      ]
     },
     "execution_count": 32,
     "metadata": {},
     "output_type": "execute_result"
    }
   ],
   "source": [
    "import com.twosigma.beaker.chart.categoryplot.CategoryPlot\n",
    "import com.twosigma.beaker.chart.categoryplot.plotitem.*\n",
    "import com.twosigma.beaker.chart.Color\n",
    "\n",
    "def input = [[1,2,3],[1,3,5]].transpose() // == [[1,1], [2,3], [3,5]]\n",
    "def bars = new CategoryBars(value: input)\n",
    "new CategoryPlot() << bars"
   ]
  },
  {
   "cell_type": "code",
   "execution_count": 33,
   "metadata": {
    "collapsed": false
   },
   "outputs": [
    {
     "data": {
      "text/plain": [
       "[{closePrice_mean=88.59, highPrice_mean=88.91, lowPrice_mean=88.20, openPrice_mean=78.55}, {closePrice_mean=58.96, highPrice_mean=59.79, lowPrice_mean=58.11, openPrice_mean=58.93}, {closePrice_mean=39.09, highPrice_mean=39.96, lowPrice_mean=27.99, openPrice_mean=18.86}]"
      ]
     },
     "execution_count": 33,
     "metadata": {},
     "output_type": "execute_result"
    }
   ],
   "source": [
    "table = [[closePrice_mean:88.59, highPrice_mean:88.91, lowPrice_mean:88.20, openPrice_mean:78.55],\n",
    "         [closePrice_mean:58.96, highPrice_mean:59.79, lowPrice_mean:58.11, openPrice_mean:58.93],\n",
    "         [closePrice_mean:39.09, highPrice_mean:39.96, lowPrice_mean:27.99, openPrice_mean:18.86]]"
   ]
  },
  {
   "cell_type": "code",
   "execution_count": 35,
   "metadata": {
    "collapsed": false
   },
   "outputs": [
    {
     "data": {
      "text/html": [
       "<html><div id='beakerChart34'></div><script>var j = {\"type\":\"CategoryPlot\",\"init_width\":640,\"init_height\":480,\"chart_title\":null,\"show_legend\":null,\"use_tool_tip\":true,\"legend_position\":{\"type\":\"LegendPosition\",\"position\":\"TOP_RIGHT\"},\"legend_layout\":\"VERTICAL\",\"element_styles\":{},\"domain_axis_label\":null,\"y_label\":\"\",\"rangeAxes\":[{\"type\":\"YAxis\",\"label\":\"\",\"auto_range\":true,\"auto_range_includes_zero\":false,\"lower_margin\":0.0,\"upper_margin\":0.0,\"lower_bound\":0.0,\"upper_bound\":0.0,\"use_log\":false,\"log_base\":10.0}],\"x_lower_margin\":0.05,\"x_upper_margin\":0.05,\"y_auto_range\":true,\"y_auto_range_includes_zero\":false,\"y_lower_margin\":0.0,\"y_upper_margin\":0.0,\"y_lower_bound\":0.0,\"y_upper_bound\":0.0,\"log_y\":false,\"timezone\":null,\"crosshair\":null,\"omit_checkboxes\":false,\"categoryNames\":[\"closePrice_mean\",\"highPrice_mean\",\"lowPrice_mean\",\"openPrice_mean\"],\"graphics_list\":[{\"type\":\"CategoryBars\",\"uid\":\"81002c0b-88f4-49bd-abb6-9ea3975ed71c\",\"visible\":true,\"yAxis\":null,\"hasClickAction\":false,\"showItemLabel\":false,\"center_series\":false,\"use_tool_tip\":true,\"seriesNames\":[\"A\",\"B\",\"C\"],\"value\":[[88.59,88.91,88.20,78.55],[58.96,59.79,58.11,58.93],[39.09,39.96,27.99,18.86]],\"color\":null,\"base\":0.0,\"width\":null,\"outline_color\":null,\"fill\":null,\"outline\":false,\"labelPosition\":\"CENTER\"}],\"orientation\":\"VERTICAL\",\"category_margin\":0.2,\"categoryNamesLabelAngle\":0.0}; console.log('plot this:'); console.log(j); window.initPlotd(j,'beakerChart34');</script></html>"
      ]
     },
     "execution_count": 35,
     "metadata": {},
     "output_type": "execute_result"
    }
   ],
   "source": [
    "import com.twosigma.beaker.chart.categoryplot.CategoryPlot\n",
    "import com.twosigma.beaker.chart.categoryplot.plotitem.*\n",
    "import com.twosigma.beaker.chart.Color\n",
    "\n",
    "def v = table.collect { it.values().toList() }\n",
    "def p = new CategoryPlot(categoryNames: table[0].keySet().toList())\n",
    "p << new CategoryBars(value: v, seriesNames: [\"A\", \"B\", \"C\"])"
   ]
  },
  {
   "cell_type": "code",
   "execution_count": null,
   "metadata": {
    "collapsed": true
   },
   "outputs": [],
   "source": []
  }
 ],
 "metadata": {
  "anaconda-cloud": {},
  "kernelspec": {
   "display_name": "Groovy",
   "language": "groovy",
   "name": "groovy"
  },
  "language_info": {
   "codemirror_mode": "",
   "file_extension": ".groovy",
   "mimetype": "",
   "name": "Groovy",
   "nbconverter_exporter": "",
   "pygments_lexer": "",
   "version": "2.4.6"
  }
 },
 "nbformat": 4,
 "nbformat_minor": 1
}
