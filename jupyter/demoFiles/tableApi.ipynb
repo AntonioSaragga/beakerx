{
 "cells": [
  {
   "cell_type": "code",
   "execution_count": 1,
   "metadata": {
    "collapsed": false
   },
   "outputs": [
    {
     "data": {
      "text/plain": [
       "com.twosigma.beaker.table.TableDisplay@517c343d"
      ]
     },
     "execution_count": 1,
     "metadata": {},
     "output_type": "execute_result"
    }
   ],
   "source": [
    "import com.twosigma.beaker.table.*\n",
    "import java.util.concurrent.TimeUnit    \n",
    "import com.twosigma.beaker.table.format.TableDisplayStringFormat\n",
    "import com.twosigma.beaker.fileloader.CsvPlotReader\n",
    "\n",
    "def rates = new CsvPlotReader().read(\"tableRows.csv\")\n",
    "    \n",
    "    \n",
    "def display = new TableDisplay(rates)\n",
    "//show all time columns in days\n",
    "display.setStringFormatForTimes(TimeUnit.DAYS)\n",
    "//min 4, max 6 decimal places for all doubles\n",
    "display.setStringFormatForType(ColumnType.Double, TableDisplayStringFormat.getDecimalFormat(4,6))\n",
    "//setting for a column takes precidence over the type\n",
    "display.setStringFormatForColumn(\"m3\", TableDisplayStringFormat.getDecimalFormat(0, 0))\n",
    "//set the alignment\n",
    "display.setAlignmentProviderForType(ColumnType.Double, TableDisplayAlignmentProvider.RIGHT_ALIGNMENT)\n",
    "display.setAlignmentProviderForColumn('m3', TableDisplayAlignmentProvider.CENTER_ALIGNMENT)\n",
    "\n",
    "//using a closure\n",
    "//display.setStringFormatForColumn(\"y3\") { value, row, col, tableDisplay ->\n",
    "//   if(value < 8) {\n",
    "//       \":(\"\n",
    "//   } else {\n",
    "//       \":)\"\n",
    "//  } \n",
    "//}\n",
    "\n",
    "display"
   ]
  }
 ],
 "metadata": {
  "kernelspec": {
   "display_name": "Groovy",
   "language": "groovy",
   "name": "groovy"
  },
  "language_info": {
   "codemirror_mode": "",
   "file_extension": ".groovy",
   "mimetype": "",
   "name": "Groovy",
   "nbconverter_exporter": "",
   "pygments_lexer": "",
   "version": "2.4.6"
  }
 },
 "nbformat": 4,
 "nbformat_minor": 2
}
