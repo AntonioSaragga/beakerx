{
 "cells": [
  {
   "cell_type": "code",
   "execution_count": 4,
   "metadata": {
    "collapsed": false,
    "deletable": true,
    "editable": true
   },
   "outputs": [
    {
     "data": {
      "text/plain": []
     },
     "execution_count": 4,
     "metadata": {},
     "output_type": "execute_result"
    }
   ],
   "source": [
    "import com.twosigma.beaker.table.*\n",
    "import java.util.concurrent.TimeUnit    \n",
    "import com.twosigma.beaker.table.format.TableDisplayStringFormat\n",
    "import com.twosigma.beaker.fileloader.CsvPlotReader\n",
    "\n",
    "def rates = new CsvPlotReader().readAsList(\"tableRows.csv\")\n",
    "display = new TableDisplay(rates)\n",
    "//using a closure\n",
    "display.setStringFormatForColumn(\"y3\") { value, row, col, tableDisplay ->\n",
    "   if(value < 8) {\n",
    "       \":(\"\n",
    "   } else {\n",
    "       \":)\"\n",
    "  } \n",
    "}\n",
    "display"
   ]
  },
  {
   "cell_type": "code",
   "execution_count": 8,
   "metadata": {
    "collapsed": false,
    "deletable": true,
    "editable": true
   },
   "outputs": [
    {
     "data": {
      "text/plain": []
     },
     "execution_count": 8,
     "metadata": {},
     "output_type": "execute_result"
    }
   ],
   "source": [
    "Plot plot = new Plot();\n",
    "plot.setTitle(\"tst\");\n",
    "plot"
   ]
  },
  {
   "cell_type": "code",
   "execution_count": 9,
   "metadata": {
    "collapsed": false,
    "deletable": true,
    "editable": true
   },
   "outputs": [
    {
     "data": {
      "text/plain": [
       "some string"
      ]
     },
     "execution_count": 9,
     "metadata": {},
     "output_type": "execute_result"
    }
   ],
   "source": [
    "\"some string\""
   ]
  },
  {
   "cell_type": "code",
   "execution_count": 10,
   "metadata": {
    "collapsed": false,
    "deletable": true,
    "editable": true
   },
   "outputs": [
    {
     "name": "stderr",
     "output_type": "stream",
     "text": [
      "groovy.lang.MissingPropertyException: No such property: gjh for class: script1490963644463102373\r\n",
      "\tat script1490963644463102373.run(script1490963644463102373.groovy:1)\r\n",
      "\tat com.twosigma.beaker.groovy.evaluator.GroovyEvaluator$workerThread$MyRunnable.run(GroovyEvaluator.java:438)\r\n"
     ]
    }
   ],
   "source": [
    "gjh"
   ]
  },
  {
   "cell_type": "code",
   "execution_count": null,
   "metadata": {
    "collapsed": true,
    "deletable": true,
    "editable": true
   },
   "outputs": [],
   "source": []
  }
 ],
 "metadata": {
  "anaconda-cloud": {},
  "classpath": [],
  "imports": [
   "static java.lang.Math.*",
   "com.twosigma.beaker.chart.Color",
   "com.twosigma.beaker.chart.xychart.*",
   "com.twosigma.beaker.chart.xychart.plotitem.*",
   "com.twosigma.beaker.chart.legend.*",
   "com.twosigma.beaker.chart.Filter",
   "com.twosigma.beaker.chart.GradientColor",
   "com.twosigma.beaker.chart.categoryplot.*",
   "com.twosigma.beaker.chart.categoryplot.plotitem.*",
   "com.twosigma.beaker.chart.histogram.*",
   "com.twosigma.beaker.chart.heatmap.HeatMap",
   "com.twosigma.beaker.chart.KeyboardCodes",
   "java.util.concurrent.TimeUnit",
   "com.github.lwhite1.tablesaw.api.*",
   "com.github.lwhite1.tablesaw.columns.*",
   "com.github.lwhite1.tablesaw.api.ml.clustering.*",
   "com.github.lwhite1.tablesaw.reducing.*",
   "com.github.lwhite1.tablesaw.api.ml.regression.*",
   "static com.github.lwhite1.tablesaw.api.QueryHelper.*",
   "com.github.lwhite1.tablesaw.filtering.*"
  ],
  "kernelspec": {
   "display_name": "Groovy",
   "language": "groovy",
   "name": "groovy"
  },
  "language_info": {
   "codemirror_mode": "groovy",
   "file_extension": ".groovy",
   "mimetype": "",
   "name": "Groovy",
   "nbconverter_exporter": "",
   "pygments_lexer": "",
   "version": "2.4.3"
  },
  "widgets": {
   "state": {
    "f7d30807-6d2d-414d-b604-fcb0ed748612": {
     "views": [
      {
       "cell_index": 0
      },
      {
       "cell_index": 1
      }
     ]
    }
   },
   "version": "1.2.0"
  }
 },
 "nbformat": 4,
 "nbformat_minor": 2
}
