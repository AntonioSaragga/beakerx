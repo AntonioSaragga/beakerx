{
 "cells": [
  {
   "cell_type": "code",
   "execution_count": null,
   "metadata": {
    "collapsed": true
   },
   "outputs": [],
   "source": [
    "// A basic C++ cell\n",
    "// define a beaker_main function with an optional parameter for the return value\n",
    "#include <iostream>\n",
    "void beaker_main(){\n",
    "  std::cout << \"Hello world!\" << std::endl;\n",
    "  return;\n",
    "}"
   ]
  }
 ],
 "metadata": {
  "beakerx_kernel_parameters": {
   "classpath": [],
   "imports": [
    "com.twosigma.beaker.chart.xychart.*",
    "com.twosigma.beaker.easyform.EasyForm",
    "com.twosigma.beaker.chart.Filter",
    "com.twosigma.beaker.chart.Color",
    "static com.twosigma.beaker.widgets.DisplayAnyWidget.display",
    "com.twosigma.beaker.NamespaceClient",
    "com.twosigma.beaker.fileloader.CsvPlotReader",
    "com.twosigma.beaker.jvm.object.OutputCell",
    "com.twosigma.beaker.chart.categoryplot.plotitem.*",
    "com.twosigma.beaker.chart.categoryplot.*",
    "com.twosigma.beaker.chart.xychart.plotitem.*",
    "com.twosigma.beaker.table.*",
    "com.twosigma.beaker.BeakerProgressUpdate",
    "com.twosigma.beaker.chart.GradientColor",
    "com.twosigma.beaker.chart.legend.*",
    "com.twosigma.beaker.chart.histogram.*",
    "com.twosigma.beaker.chart.heatmap.HeatMap"
   ]
  },
  "kernelspec": {
   "display_name": "C++",
   "language": "cpp",
   "name": "cpp"
  },
  "language_info": {
   "codemirror_mode": "C++",
   "file_extension": ".cpp",
   "mimetype": "",
   "name": "Groovy",
   "nbconverter_exporter": "",
   "pygments_lexer": "",
   "version": ""
  }
 },
 "nbformat": 4,
 "nbformat_minor": 2
}
