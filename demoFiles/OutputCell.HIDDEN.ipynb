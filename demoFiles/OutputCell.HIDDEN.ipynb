{
 "cells": [
  {
   "cell_type": "code",
   "execution_count": 1,
   "metadata": {
    "collapsed": false,
    "deletable": true,
    "editable": true
   },
   "outputs": [],
   "source": [
    "import com.twosigma.beaker.jvm.object.OutputCell\n",
    "\n",
    "new Plot().add(new Line(x: [0, 1, 2, 3, 4, 5], y: [0, 1, 6, 5, 2, 8]))\n",
    "new Plot().add(new Line(x: (0..5), y: [0, 1, 6, 5, 2, 8]))\n",
    "new Plot() << new Line(x: (0..5), y: [0, 1, 6, 5, 2, 8])\n",
    "OutputCell.HIDDEN"
   ]
  },
  {
   "cell_type": "code",
   "execution_count": 4,
   "metadata": {
    "collapsed": false,
    "deletable": true,
    "editable": true
   },
   "outputs": [],
   "source": [
    "import com.twosigma.beaker.jvm.object.OutputCell\n",
    "\n",
    "x =10\n",
    "OutputCell.HIDDEN"
   ]
  },
  {
   "cell_type": "code",
   "execution_count": null,
   "metadata": {
    "collapsed": true,
    "deletable": true,
    "editable": true
   },
   "outputs": [],
   "source": []
  }
 ],
 "metadata": {
  "beakerx_kernel_parameters": {
   "classpath": [],
   "imports": [
    "com.twosigma.beaker.easyform.EasyForm",
    "com.github.lwhite1.tablesaw.api.ml.regression.*",
    "static com.twosigma.beaker.mimetype.MIMEContainer.VimeoVideo",
    "static com.twosigma.beaker.mimetype.FileLinkContainer.FileLinks",
    "com.twosigma.beaker.chart.Color",
    "com.github.lwhite1.tablesaw.api.*",
    "static com.twosigma.beaker.mimetype.MIMEContainer.IFrame",
    "com.twosigma.beaker.NamespaceClient",
    "com.twosigma.beaker.jvm.object.OutputCell",
    "com.github.lwhite1.tablesaw.filtering.*",
    "static com.twosigma.beaker.mimetype.MIMEContainer.HTML",
    "static com.twosigma.beaker.mimetype.MIMEContainer.Javascript",
    "static com.twosigma.beaker.mimetype.FileLinkContainer.FileLink",
    "static com.twosigma.beaker.mimetype.MIMEContainer.ScribdDocument",
    "static com.twosigma.beaker.mimetype.SVGContainer.SVG",
    "com.twosigma.beaker.BeakerProgressUpdate",
    "com.twosigma.beaker.mimetype.MIMEContainer",
    "com.twosigma.beaker.chart.histogram.*",
    "static com.github.lwhite1.tablesaw.api.QueryHelper.*",
    "com.twosigma.beaker.chart.heatmap.HeatMap",
    "com.twosigma.beaker.chart.xychart.*",
    "static com.twosigma.beaker.mimetype.ImageContainer.Image",
    "com.github.lwhite1.tablesaw.api.ml.clustering.*",
    "com.twosigma.beaker.chart.Filter",
    "static java.lang.Math.*",
    "static com.twosigma.beaker.mimetype.MIMEContainer.YoutubeVideo",
    "static com.twosigma.beaker.widgets.DisplayAnyWidget.display",
    "static com.twosigma.beaker.mimetype.MIMEContainer.Math",
    "com.twosigma.beaker.fileloader.CsvPlotReader",
    "static com.twosigma.beaker.mimetype.MIMEContainer.Markdown",
    "java.util.concurrent.TimeUnit",
    "com.twosigma.beaker.chart.categoryplot.plotitem.*",
    "static com.twosigma.beaker.mimetype.MIMEContainer.Video",
    "com.twosigma.beaker.chart.categoryplot.*",
    "static com.twosigma.beaker.mimetype.MIMEContainer.Latex",
    "com.twosigma.beaker.chart.xychart.plotitem.*",
    "com.twosigma.beaker.table.*",
    "com.twosigma.beaker.chart.KeyboardCodes",
    "com.twosigma.beaker.chart.GradientColor",
    "com.github.lwhite1.tablesaw.columns.*",
    "com.twosigma.beaker.chart.legend.*",
    "com.github.lwhite1.tablesaw.reducing.*"
   ]
  },
  "kernelspec": {
   "display_name": "Groovy",
   "language": "groovy",
   "name": "groovy"
  },
  "language_info": {
   "codemirror_mode": "groovy",
   "file_extension": ".groovy",
   "mimetype": "",
   "name": "Groovy",
   "nbconverter_exporter": "",
   "pygments_lexer": "",
   "version": "2.4.3"
  }
 },
 "nbformat": 4,
 "nbformat_minor": 0
}
