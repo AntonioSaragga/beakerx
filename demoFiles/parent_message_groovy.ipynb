{
 "cells": [
  {
   "cell_type": "markdown",
   "metadata": {},
   "source": [
    "# Parent Header Test\n",
    "Run all the cells and confirm the widgets are in order"
   ]
  },
  {
   "cell_type": "code",
   "execution_count": null,
   "metadata": {},
   "outputs": [],
   "source": [
    "import com.twosigma.beaker.widgets.integers.IntProgress\n",
    "bar = new IntProgress()\n",
    "bar.max = 300\n",
    "bar.value = 10\n",
    "display(bar)"
   ]
  },
  {
   "cell_type": "code",
   "execution_count": null,
   "metadata": {},
   "outputs": [],
   "source": [
    "import com.twosigma.beaker.widgets.integers.IntProgress\n",
    "\n",
    "bar = new IntProgress()\n",
    "bar.max = 300\n",
    "bar.value = 20\n",
    "display(bar)"
   ]
  },
  {
   "cell_type": "code",
   "execution_count": null,
   "metadata": {},
   "outputs": [],
   "source": [
    "import com.twosigma.beaker.widgets.integers.IntProgress\n",
    "\n",
    "bar = new IntProgress()\n",
    "bar.max = 300\n",
    "bar.value = 30\n",
    "display(bar)"
   ]
  },
  {
   "cell_type": "code",
   "execution_count": null,
   "metadata": {},
   "outputs": [],
   "source": [
    "import com.twosigma.beaker.widgets.integers.IntProgress\n",
    "\n",
    "bar = new IntProgress()\n",
    "bar.max = 300\n",
    "bar.value = 40\n",
    "display(bar)"
   ]
  },
  {
   "cell_type": "code",
   "execution_count": null,
   "metadata": {},
   "outputs": [],
   "source": [
    "import com.twosigma.beaker.widgets.integers.IntProgress\n",
    "\n",
    "bar = new IntProgress()\n",
    "bar.max = 300\n",
    "bar.value = 50\n",
    "display(bar)"
   ]
  },
  {
   "cell_type": "code",
   "execution_count": null,
   "metadata": {},
   "outputs": [],
   "source": [
    "import com.twosigma.beaker.widgets.integers.IntProgress\n",
    "\n",
    "bar = new IntProgress()\n",
    "bar.max = 300\n",
    "bar.value = 60\n",
    "display(bar)"
   ]
  },
  {
   "cell_type": "code",
   "execution_count": null,
   "metadata": {},
   "outputs": [],
   "source": [
    "import com.twosigma.beaker.widgets.integers.IntProgress\n",
    "\n",
    "bar = new IntProgress()\n",
    "bar.max = 300\n",
    "bar.value = 70\n",
    "display(bar)"
   ]
  },
  {
   "cell_type": "code",
   "execution_count": null,
   "metadata": {},
   "outputs": [],
   "source": [
    "import com.twosigma.beaker.widgets.integers.IntProgress\n",
    "\n",
    "bar = new IntProgress()\n",
    "bar.max = 300\n",
    "bar.value = 80\n",
    "display(bar)"
   ]
  },
  {
   "cell_type": "code",
   "execution_count": null,
   "metadata": {},
   "outputs": [],
   "source": [
    "import com.twosigma.beaker.widgets.integers.IntProgress\n",
    "\n",
    "bar = new IntProgress()\n",
    "bar.max = 300\n",
    "bar.value = 90\n",
    "display(bar)"
   ]
  },
  {
   "cell_type": "code",
   "execution_count": null,
   "metadata": {},
   "outputs": [],
   "source": [
    "import com.twosigma.beaker.widgets.integers.IntProgress\n",
    "\n",
    "bar = new IntProgress()\n",
    "bar.max = 300\n",
    "bar.value = 100\n",
    "display(bar)"
   ]
  },
  {
   "cell_type": "code",
   "execution_count": null,
   "metadata": {},
   "outputs": [],
   "source": [
    "import com.twosigma.beaker.widgets.integers.IntProgress\n",
    "\n",
    "bar = new IntProgress()\n",
    "bar.max = 300\n",
    "bar.value = 110\n",
    "display(bar)"
   ]
  },
  {
   "cell_type": "code",
   "execution_count": null,
   "metadata": {},
   "outputs": [],
   "source": [
    "import com.twosigma.beaker.widgets.integers.IntProgress\n",
    "\n",
    "bar = new IntProgress()\n",
    "bar.max = 300\n",
    "bar.value = 120\n",
    "display(bar)"
   ]
  },
  {
   "cell_type": "code",
   "execution_count": null,
   "metadata": {},
   "outputs": [],
   "source": [
    "import com.twosigma.beaker.widgets.integers.IntProgress\n",
    "\n",
    "bar = new IntProgress()\n",
    "bar.max = 300\n",
    "bar.value = 130\n",
    "display(bar)"
   ]
  },
  {
   "cell_type": "code",
   "execution_count": null,
   "metadata": {},
   "outputs": [],
   "source": [
    "import com.twosigma.beaker.widgets.integers.IntProgress\n",
    "\n",
    "bar = new IntProgress()\n",
    "bar.max = 300\n",
    "bar.value = 140\n",
    "display(bar)"
   ]
  },
  {
   "cell_type": "code",
   "execution_count": null,
   "metadata": {},
   "outputs": [],
   "source": [
    "import com.twosigma.beaker.widgets.integers.IntProgress\n",
    "\n",
    "bar = new IntProgress()\n",
    "bar.max = 300\n",
    "bar.value = 150\n",
    "display(bar)"
   ]
  },
  {
   "cell_type": "code",
   "execution_count": null,
   "metadata": {},
   "outputs": [],
   "source": [
    "import com.twosigma.beaker.widgets.integers.IntProgress\n",
    "\n",
    "bar = new IntProgress()\n",
    "bar.max = 300\n",
    "bar.value = 160\n",
    "display(bar)"
   ]
  },
  {
   "cell_type": "code",
   "execution_count": null,
   "metadata": {},
   "outputs": [],
   "source": [
    "import com.twosigma.beaker.widgets.integers.IntProgress\n",
    "\n",
    "bar = new IntProgress()\n",
    "bar.max = 300\n",
    "bar.value = 170\n",
    "display(bar)"
   ]
  },
  {
   "cell_type": "code",
   "execution_count": null,
   "metadata": {},
   "outputs": [],
   "source": [
    "import com.twosigma.beaker.widgets.integers.IntProgress\n",
    "\n",
    "bar = new IntProgress()\n",
    "bar.max = 300\n",
    "bar.value = 180\n",
    "display(bar)"
   ]
  },
  {
   "cell_type": "code",
   "execution_count": null,
   "metadata": {},
   "outputs": [],
   "source": [
    "import com.twosigma.beaker.widgets.integers.IntProgress\n",
    "\n",
    "bar = new IntProgress()\n",
    "bar.max = 300\n",
    "bar.value = 190\n",
    "display(bar)"
   ]
  },
  {
   "cell_type": "code",
   "execution_count": null,
   "metadata": {},
   "outputs": [],
   "source": [
    "import com.twosigma.beaker.widgets.integers.IntProgress\n",
    "\n",
    "bar = new IntProgress()\n",
    "bar.max = 300\n",
    "bar.value = 200\n",
    "display(bar)"
   ]
  },
  {
   "cell_type": "code",
   "execution_count": null,
   "metadata": {},
   "outputs": [],
   "source": [
    "import com.twosigma.beaker.widgets.integers.IntProgress\n",
    "\n",
    "bar = new IntProgress()\n",
    "bar.max = 300\n",
    "bar.value = 210\n",
    "display(bar)"
   ]
  },
  {
   "cell_type": "code",
   "execution_count": null,
   "metadata": {},
   "outputs": [],
   "source": [
    "import com.twosigma.beaker.widgets.integers.IntProgress\n",
    "\n",
    "bar = new IntProgress()\n",
    "bar.max = 300\n",
    "bar.value = 220\n",
    "display(bar)"
   ]
  },
  {
   "cell_type": "code",
   "execution_count": null,
   "metadata": {},
   "outputs": [],
   "source": [
    "import com.twosigma.beaker.widgets.integers.IntProgress\n",
    "\n",
    "bar = new IntProgress()\n",
    "bar.max = 300\n",
    "bar.value = 230\n",
    "display(bar)"
   ]
  },
  {
   "cell_type": "code",
   "execution_count": null,
   "metadata": {},
   "outputs": [],
   "source": [
    "import com.twosigma.beaker.widgets.integers.IntProgress\n",
    "\n",
    "bar = new IntProgress()\n",
    "bar.max = 300\n",
    "bar.value = 240\n",
    "display(bar)"
   ]
  },
  {
   "cell_type": "code",
   "execution_count": null,
   "metadata": {},
   "outputs": [],
   "source": [
    "import com.twosigma.beaker.widgets.integers.IntProgress\n",
    "\n",
    "bar = new IntProgress()\n",
    "bar.max = 300\n",
    "bar.value = 250\n",
    "display(bar)"
   ]
  },
  {
   "cell_type": "code",
   "execution_count": null,
   "metadata": {},
   "outputs": [],
   "source": [
    "import com.twosigma.beaker.widgets.integers.IntProgress\n",
    "\n",
    "bar = new IntProgress()\n",
    "bar.max = 300\n",
    "bar.value = 260\n",
    "display(bar)"
   ]
  },
  {
   "cell_type": "code",
   "execution_count": null,
   "metadata": {},
   "outputs": [],
   "source": [
    "import com.twosigma.beaker.widgets.integers.IntProgress\n",
    "\n",
    "bar = new IntProgress()\n",
    "bar.max = 300\n",
    "bar.value = 270\n",
    "display(bar)"
   ]
  },
  {
   "cell_type": "code",
   "execution_count": null,
   "metadata": {},
   "outputs": [],
   "source": [
    "import com.twosigma.beaker.widgets.integers.IntProgress\n",
    "\n",
    "bar = new IntProgress()\n",
    "bar.max = 300\n",
    "bar.value = 280\n",
    "display(bar)"
   ]
  },
  {
   "cell_type": "code",
   "execution_count": null,
   "metadata": {},
   "outputs": [],
   "source": [
    "import com.twosigma.beaker.widgets.integers.IntProgress\n",
    "\n",
    "bar = new IntProgress()\n",
    "bar.max = 300\n",
    "bar.value = 290\n",
    "display(bar)"
   ]
  },
  {
   "cell_type": "code",
   "execution_count": null,
   "metadata": {},
   "outputs": [],
   "source": [
    "import com.twosigma.beaker.widgets.integers.IntProgress\n",
    "\n",
    "bar = new IntProgress()\n",
    "bar.max = 300\n",
    "bar.value = 300\n",
    "display(bar)"
   ]
  }
 ],
 "metadata": {
  "anaconda-cloud": {},
  "beakerx_kernel_parameters": {
   "classpath": [],
   "imports": [
    "com.twosigma.beaker.easyform.EasyForm",
    "com.github.lwhite1.tablesaw.api.ml.regression.*",
    "static com.twosigma.beaker.mimetype.MIMEContainer.VimeoVideo",
    "static com.twosigma.beaker.mimetype.FileLinkContainer.FileLinks",
    "com.twosigma.beaker.chart.Color",
    "com.github.lwhite1.tablesaw.api.*",
    "static com.twosigma.beaker.mimetype.MIMEContainer.IFrame",
    "com.twosigma.beaker.NamespaceClient",
    "com.twosigma.beaker.jvm.object.OutputCell",
    "com.github.lwhite1.tablesaw.filtering.*",
    "static com.twosigma.beaker.mimetype.MIMEContainer.HTML",
    "static com.twosigma.beaker.mimetype.MIMEContainer.Javascript",
    "static com.twosigma.beaker.mimetype.FileLinkContainer.FileLink",
    "static com.twosigma.beaker.mimetype.MIMEContainer.ScribdDocument",
    "static com.twosigma.beaker.mimetype.SVGContainer.SVG",
    "com.twosigma.beaker.BeakerProgressUpdate",
    "com.twosigma.beaker.mimetype.MIMEContainer",
    "com.twosigma.beaker.chart.histogram.*",
    "static com.github.lwhite1.tablesaw.api.QueryHelper.*",
    "com.twosigma.beaker.chart.heatmap.HeatMap",
    "com.twosigma.beaker.chart.xychart.*",
    "static com.twosigma.beaker.mimetype.ImageContainer.Image",
    "com.github.lwhite1.tablesaw.api.ml.clustering.*",
    "com.twosigma.beaker.chart.Filter",
    "static java.lang.Math.*",
    "static com.twosigma.beaker.mimetype.MIMEContainer.YoutubeVideo",
    "static com.twosigma.beaker.widgets.DisplayAnyWidget.display",
    "static com.twosigma.beaker.mimetype.MIMEContainer.Math",
    "com.twosigma.beaker.fileloader.CsvPlotReader",
    "static com.twosigma.beaker.mimetype.MIMEContainer.Markdown",
    "java.util.concurrent.TimeUnit",
    "com.twosigma.beaker.chart.categoryplot.plotitem.*",
    "static com.twosigma.beaker.mimetype.MIMEContainer.Video",
    "com.twosigma.beaker.chart.categoryplot.*",
    "static com.twosigma.beaker.mimetype.MIMEContainer.Latex",
    "com.twosigma.beaker.chart.xychart.plotitem.*",
    "com.twosigma.beaker.table.*",
    "com.twosigma.beaker.chart.KeyboardCodes",
    "com.twosigma.beaker.chart.GradientColor",
    "com.github.lwhite1.tablesaw.columns.*",
    "com.twosigma.beaker.chart.legend.*",
    "com.github.lwhite1.tablesaw.reducing.*"
   ]
  },
  "kernelspec": {
   "display_name": "Groovy",
   "language": "groovy",
   "name": "groovy"
  },
  "language_info": {
   "codemirror_mode": "groovy",
   "file_extension": ".groovy",
   "mimetype": "",
   "name": "Groovy",
   "nbconverter_exporter": "",
   "version": "2.4.3"
  }
 },
 "nbformat": 4,
 "nbformat_minor": 2
}
