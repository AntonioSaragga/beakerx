{
 "cells": [
  {
   "cell_type": "markdown",
   "metadata": {
    "deletable": true,
    "editable": true
   },
   "source": [
    "# Classpath in Groovy"
   ]
  },
  {
   "cell_type": "code",
   "execution_count": 2,
   "metadata": {
    "collapsed": false,
    "deletable": true,
    "editable": true
   },
   "outputs": [
    {
     "name": "stdout",
     "output_type": "stream",
     "text": [
      "The Groovy working folder is :\n",
      "/home/codete/workspaceBeakerx/beakerx/demoFiles\n",
      "BeakerXClasspathTest.jar exists in this folder\n"
     ]
    }
   ],
   "source": [
    "println \"The Groovy working folder is :\"\n",
    "println java.nio.file.Paths.get(\".\").toAbsolutePath().normalize().toString();\n",
    "println \"BeakerXClasspathTest.jar exists in this folder\"\n",
    "OutputCell.HIDDEN"
   ]
  },
  {
   "cell_type": "code",
   "execution_count": 3,
   "metadata": {
    "collapsed": false,
    "deletable": true,
    "editable": true
   },
   "outputs": [
    {
     "name": "stdout",
     "output_type": "stream",
     "text": [
      "static_123\n",
      "object_123\n"
     ]
    }
   ],
   "source": [
    "BeakerXClasspathTest t = new BeakerXClasspathTest();\n",
    "println com.beaker.BeakerXClasspathTest.staticTest;\n",
    "println t.getObjectTest();\n",
    "OutputCell.HIDDEN"
   ]
  },
  {
   "cell_type": "code",
   "execution_count": null,
   "metadata": {
    "collapsed": true
   },
   "outputs": [],
   "source": []
  }
 ],
 "metadata": {
  "anaconda-cloud": {},
  "beakerx_kernel_parameters": {
   "classpath": [
    "BeakerXClasspathTest.jar"
   ],
   "imports": [
    "com.beaker.BeakerXClasspathTest",
    "com.twosigma.beaker.jvm.object.OutputCell",
    "com.twosigma.beaker.easyform.EasyForm",
    "com.github.lwhite1.tablesaw.api.ml.regression.*",
    "static com.twosigma.beaker.mimetype.MIMEContainer.VimeoVideo",
    "static com.twosigma.beaker.mimetype.FileLinkContainer.FileLinks",
    "com.twosigma.beaker.chart.Color",
    "com.github.lwhite1.tablesaw.api.*",
    "static com.twosigma.beaker.mimetype.MIMEContainer.IFrame",
    "com.twosigma.beaker.NamespaceClient",
    "com.twosigma.beaker.jvm.object.OutputCell",
    "com.github.lwhite1.tablesaw.filtering.*",
    "static com.twosigma.beaker.mimetype.MIMEContainer.HTML",
    "static com.twosigma.beaker.mimetype.MIMEContainer.Javascript",
    "static com.twosigma.beaker.mimetype.FileLinkContainer.FileLink",
    "static com.twosigma.beaker.mimetype.MIMEContainer.ScribdDocument",
    "static com.twosigma.beaker.mimetype.SVGContainer.SVG",
    "com.twosigma.beaker.BeakerProgressUpdate",
    "com.twosigma.beaker.mimetype.MIMEContainer",
    "com.twosigma.beaker.chart.histogram.*",
    "static com.github.lwhite1.tablesaw.api.QueryHelper.*",
    "com.twosigma.beaker.chart.heatmap.HeatMap",
    "com.twosigma.beaker.chart.xychart.*",
    "static com.twosigma.beaker.mimetype.ImageContainer.Image",
    "com.github.lwhite1.tablesaw.api.ml.clustering.*",
    "com.twosigma.beaker.chart.Filter",
    "static java.lang.Math.*",
    "static com.twosigma.beaker.mimetype.MIMEContainer.YoutubeVideo",
    "static com.twosigma.beaker.widgets.DisplayAnyWidget.display",
    "static com.twosigma.beaker.mimetype.MIMEContainer.Math",
    "com.twosigma.beaker.fileloader.CsvPlotReader",
    "static com.twosigma.beaker.mimetype.MIMEContainer.Markdown",
    "java.util.concurrent.TimeUnit",
    "com.twosigma.beaker.chart.categoryplot.plotitem.*",
    "static com.twosigma.beaker.mimetype.MIMEContainer.Video",
    "com.twosigma.beaker.chart.categoryplot.*",
    "static com.twosigma.beaker.mimetype.MIMEContainer.Latex",
    "com.twosigma.beaker.chart.xychart.plotitem.*",
    "com.twosigma.beaker.table.*",
    "com.twosigma.beaker.chart.KeyboardCodes",
    "com.twosigma.beaker.chart.GradientColor",
    "com.github.lwhite1.tablesaw.columns.*",
    "com.twosigma.beaker.chart.legend.*",
    "com.github.lwhite1.tablesaw.reducing.*"
   ]
  },
  "kernelspec": {
   "display_name": "Groovy",
   "language": "groovy",
   "name": "groovy"
  },
  "language_info": {
   "codemirror_mode": "groovy",
   "file_extension": ".groovy",
   "mimetype": "",
   "name": "Groovy",
   "nbconverter_exporter": "",
   "pygments_lexer": "",
   "version": "2.4.3"
  }
 },
 "nbformat": 4,
 "nbformat_minor": 2
}
