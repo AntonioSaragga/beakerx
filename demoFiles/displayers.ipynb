{
 "cells": [
  {
   "cell_type": "code",
   "execution_count": 1,
   "metadata": {},
   "outputs": [
    {
     "data": {
      "text/plain": [
       "[FF, tt]"
      ]
     },
     "execution_count": 1,
     "metadata": {},
     "output_type": "execute_result"
    }
   ],
   "source": [
    "String[] abc = new String[2];\n",
    "abc[0] = \"FF\"\n",
    "abc[1] = \"tt\"\n",
    "abc"
   ]
  },
  {
   "cell_type": "code",
   "execution_count": 2,
   "metadata": {},
   "outputs": [
    {
     "data": {
      "text/plain": [
       "null"
      ]
     },
     "execution_count": 2,
     "metadata": {},
     "output_type": "execute_result"
    }
   ],
   "source": [
    "jupyter.Displayers.register(String.class, new jupyter.Displayer() {\n",
    "\n",
    "  @Override\n",
    "  public Map display(Object arg0) {\n",
    "    java.util.Map<String, String> ret = new HashMap<>();\n",
    "    ret.put(\"text/html\", \"HTML|\" + arg0 + \"|HTML\");\n",
    "    //ret.put(\"text/plain\", \"TEXT|\" + arg0 + \"|TEXT\");\n",
    "    return ret;\n",
    "  }\n",
    "    \n",
    "});\n"
   ]
  },
  {
   "cell_type": "code",
   "execution_count": 3,
   "metadata": {},
   "outputs": [
    {
     "data": {
      "text/plain": [
       "[null, null]"
      ]
     },
     "execution_count": 3,
     "metadata": {},
     "output_type": "execute_result"
    }
   ],
   "source": [
    "String[] abc = new String[2];\n",
    "abc[0] = \"FF\"\n",
    "abc[1] = \"tt\"\n",
    "abc"
   ]
  },
  {
   "cell_type": "code",
   "execution_count": 4,
   "metadata": {},
   "outputs": [
    {
     "data": {
      "text/html": [
       "HTML|ABC|HTML"
      ]
     },
     "execution_count": 4,
     "metadata": {},
     "output_type": "execute_result"
    }
   ],
   "source": [
    "\"ABC\""
   ]
  },
  {
   "cell_type": "code",
   "execution_count": 5,
   "metadata": {},
   "outputs": [
    {
     "data": {
      "text/plain": [
       "null"
      ]
     },
     "execution_count": 5,
     "metadata": {},
     "output_type": "execute_result"
    }
   ],
   "source": [
    "jupyter.Displayers.register(String.class, null);\n"
   ]
  },
  {
   "cell_type": "code",
   "execution_count": 6,
   "metadata": {},
   "outputs": [
    {
     "data": {
      "text/plain": [
       "ABC"
      ]
     },
     "execution_count": 6,
     "metadata": {},
     "output_type": "execute_result"
    }
   ],
   "source": [
    "\"ABC\""
   ]
  },
  {
   "cell_type": "code",
   "execution_count": 7,
   "metadata": {},
   "outputs": [
    {
     "data": {
      "text/plain": [
       "[FF, tt]"
      ]
     },
     "execution_count": 7,
     "metadata": {},
     "output_type": "execute_result"
    }
   ],
   "source": [
    "String[] abc = new String[2];\n",
    "abc[0] = \"FF\"\n",
    "abc[1] = \"tt\"\n",
    "abc"
   ]
  },
  {
   "cell_type": "code",
   "execution_count": 8,
   "metadata": {},
   "outputs": [
    {
     "data": {
      "text/plain": [
       "null"
      ]
     },
     "execution_count": 8,
     "metadata": {},
     "output_type": "execute_result"
    }
   ],
   "source": [
    "jupyter.Displayers.register(String.class, new jupyter.Displayer() {\n",
    "\n",
    "  @Override\n",
    "  public Map display(Object arg0) {\n",
    "    java.util.Map<String, String> ret = new HashMap<>();\n",
    "    //ret.put(\"text/html\", \"HTML|\" + arg0 + \"|HTML\");\n",
    "    ret.put(\"text/plain\", \"TEXT|\" + arg0 + \"|TEXT\");\n",
    "    return ret;\n",
    "  }\n",
    "    \n",
    "});"
   ]
  },
  {
   "cell_type": "code",
   "execution_count": 9,
   "metadata": {},
   "outputs": [
    {
     "data": {
      "text/plain": [
       "[TEXT|FF|TEXT, TEXT|tt|TEXT]"
      ]
     },
     "execution_count": 9,
     "metadata": {},
     "output_type": "execute_result"
    }
   ],
   "source": [
    "String[] abc = new String[2];\n",
    "abc[0] = \"FF\"\n",
    "abc[1] = \"tt\"\n",
    "abc"
   ]
  },
  {
   "cell_type": "code",
   "execution_count": 10,
   "metadata": {},
   "outputs": [
    {
     "data": {
      "text/plain": [
       "com.twosigma.beaker.widgets.floats.FloatSlider@68b35d11"
      ]
     },
     "execution_count": 10,
     "metadata": {},
     "output_type": "execute_result"
    }
   ],
   "source": [
    "//Displayer have default to string value for any object,\n",
    "//so I can not detect if this custom displayer or not.\n",
    "//So for widgets we need to call \"display\" everytime\n",
    "import com.twosigma.beaker.widgets.floats.FloatSlider\n",
    "\n",
    "def widget = new FloatSlider()\n"
   ]
  },
  {
   "cell_type": "code",
   "execution_count": 11,
   "metadata": {},
   "outputs": [
    {
     "data": {
      "text/plain": [
       "null"
      ]
     },
     "execution_count": 11,
     "metadata": {},
     "output_type": "execute_result"
    }
   ],
   "source": [
    "//Displayer have default to string value for any object,\n",
    "//so I can not detect if this custom displayer or not.\n",
    "//So for widgets we need to call \"display\" everytime\n",
    "import com.twosigma.beaker.widgets.floats.FloatSlider\n",
    "\n",
    "def widget = new FloatSlider()\n",
    "widget.display()"
   ]
  },
  {
   "cell_type": "code",
   "execution_count": 18,
   "metadata": {},
   "outputs": [
    {
     "data": {
      "text/plain": [
       "null"
      ]
     },
     "execution_count": 18,
     "metadata": {},
     "output_type": "execute_result"
    }
   ],
   "source": [
    "import com.twosigma.beaker.widgets.floats.FloatSlider\n",
    "\n",
    "jupyter.Displayers.register(FloatSlider.class, new jupyter.Displayer() {\n",
    "\n",
    "  @Override\n",
    "  public Map display(Object arg0) {\n",
    "    FloatSlider w = (FloatSlider)arg0\n",
    "    java.util.Map<String, String> ret = new HashMap<>();\n",
    "    //ret.put(\"text/html\", \"HTML|\" + arg0 + \"|HTML\");\n",
    "    ret.put(\"text/plain\", \"TEXT|\" + w.value  + \"|TEXT\");\n",
    "    return ret;\n",
    "  }\n",
    "    \n",
    "});\n"
   ]
  },
  {
   "cell_type": "code",
   "execution_count": 19,
   "metadata": {},
   "outputs": [
    {
     "data": {
      "text/plain": [
       "TEXT|0.0|TEXT"
      ]
     },
     "execution_count": 19,
     "metadata": {},
     "output_type": "execute_result"
    }
   ],
   "source": [
    "import com.twosigma.beaker.widgets.floats.FloatSlider\n",
    "def widget = new FloatSlider()\n",
    "widget.value = 10.11\n",
    "widget.display()\n",
    "\n",
    "widget"
   ]
  },
  {
   "cell_type": "code",
   "execution_count": 21,
   "metadata": {},
   "outputs": [
    {
     "data": {
      "text/plain": [
       "null"
      ]
     },
     "execution_count": 21,
     "metadata": {},
     "output_type": "execute_result"
    }
   ],
   "source": [
    "import com.twosigma.beaker.widgets.floats.FloatSlider\n",
    "\n",
    "jupyter.Displayers.register(FloatSlider.class, null);"
   ]
  },
  {
   "cell_type": "code",
   "execution_count": 23,
   "metadata": {},
   "outputs": [
    {
     "data": {
      "text/plain": [
       "null"
      ]
     },
     "execution_count": 23,
     "metadata": {},
     "output_type": "execute_result"
    }
   ],
   "source": [
    "import com.twosigma.beaker.widgets.floats.FloatSlider\n",
    "def widget = new FloatSlider()\n",
    "widget.display()"
   ]
  },
  {
   "cell_type": "code",
   "execution_count": null,
   "metadata": {
    "collapsed": true
   },
   "outputs": [],
   "source": []
  }
 ],
 "metadata": {
  "beakerx_kernel_parameters": {
   "classpath": [],
   "imports": [
    "com.twosigma.beaker.easyform.EasyForm",
    "com.github.lwhite1.tablesaw.api.ml.regression.*",
    "static com.twosigma.beaker.mimetype.MIMEContainer.VimeoVideo",
    "static com.twosigma.beaker.mimetype.FileLinkContainer.FileLinks",
    "com.twosigma.beaker.chart.Color",
    "com.github.lwhite1.tablesaw.api.*",
    "static com.twosigma.beaker.mimetype.MIMEContainer.IFrame",
    "com.twosigma.beaker.NamespaceClient",
    "com.twosigma.beaker.jvm.object.OutputCell",
    "com.github.lwhite1.tablesaw.filtering.*",
    "static com.twosigma.beaker.mimetype.MIMEContainer.HTML",
    "static com.twosigma.beaker.mimetype.MIMEContainer.Javascript",
    "static com.twosigma.beaker.mimetype.FileLinkContainer.FileLink",
    "static com.twosigma.beaker.mimetype.MIMEContainer.ScribdDocument",
    "static com.twosigma.beaker.mimetype.SVGContainer.SVG",
    "com.twosigma.beaker.BeakerProgressUpdate",
    "com.twosigma.beaker.mimetype.MIMEContainer",
    "com.twosigma.beaker.chart.histogram.*",
    "static com.github.lwhite1.tablesaw.api.QueryHelper.*",
    "com.twosigma.beaker.chart.heatmap.HeatMap",
    "com.twosigma.beaker.chart.xychart.*",
    "static com.twosigma.beaker.mimetype.ImageContainer.Image",
    "com.github.lwhite1.tablesaw.api.ml.clustering.*",
    "com.twosigma.beaker.chart.Filter",
    "static java.lang.Math.*",
    "static com.twosigma.beaker.mimetype.MIMEContainer.YoutubeVideo",
    "static com.twosigma.beaker.widgets.DisplayAnyWidget.display",
    "static com.twosigma.beaker.mimetype.MIMEContainer.Math",
    "com.twosigma.beaker.fileloader.CsvPlotReader",
    "static com.twosigma.beaker.mimetype.MIMEContainer.Markdown",
    "java.util.concurrent.TimeUnit",
    "com.twosigma.beaker.chart.categoryplot.plotitem.*",
    "static com.twosigma.beaker.mimetype.MIMEContainer.Video",
    "com.twosigma.beaker.chart.categoryplot.*",
    "static com.twosigma.beaker.mimetype.MIMEContainer.Latex",
    "com.twosigma.beaker.chart.xychart.plotitem.*",
    "com.twosigma.beaker.table.*",
    "com.twosigma.beaker.chart.KeyboardCodes",
    "com.twosigma.beaker.chart.GradientColor",
    "com.github.lwhite1.tablesaw.columns.*",
    "com.twosigma.beaker.chart.legend.*",
    "com.github.lwhite1.tablesaw.reducing.*"
   ]
  },
  "kernelspec": {
   "display_name": "Groovy",
   "language": "groovy",
   "name": "groovy"
  },
  "language_info": {
   "codemirror_mode": "groovy",
   "file_extension": ".groovy",
   "mimetype": "",
   "name": "Groovy",
   "nbconverter_exporter": "",
   "version": "2.4.3"
  }
 },
 "nbformat": 4,
 "nbformat_minor": 2
}
